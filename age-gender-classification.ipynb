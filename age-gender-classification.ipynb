{
 "cells": [
  {
   "cell_type": "markdown",
   "id": "02c23327",
   "metadata": {
    "papermill": {
     "duration": 0.01188,
     "end_time": "2025-03-11T14:03:25.011966",
     "exception": false,
     "start_time": "2025-03-11T14:03:25.000086",
     "status": "completed"
    },
    "tags": []
   },
   "source": [
    "# UTKFace\n",
    "- https://susanqq.github.io/UTKFace/\n",
    "\n",
    "The labels of each face image is embedded in the file name, formated like `[age]_[gender]_[race]_[date&time].jpg`\n",
    "\n",
    "- `[age]` is an integer from 0 to 116, indicating the age\n",
    "- `[gender]` is either 0 (male) or 1 (female)\n",
    "- `[race]` is an integer from 0 to 4, denoting White, Black, Asian, Indian, and Others (like Hispanic, Latino, Middle Eastern).\n",
    "- `[date&time]` is in the format of yyyymmddHHMMSSFFF, showing the date and time an image was collected to UTKFace"
   ]
  },
  {
   "cell_type": "code",
   "execution_count": 1,
   "id": "f22a43d8",
   "metadata": {
    "execution": {
     "iopub.execute_input": "2025-03-11T14:03:25.034798Z",
     "iopub.status.busy": "2025-03-11T14:03:25.034482Z",
     "iopub.status.idle": "2025-03-11T14:03:25.039192Z",
     "shell.execute_reply": "2025-03-11T14:03:25.038396Z"
    },
    "papermill": {
     "duration": 0.017735,
     "end_time": "2025-03-11T14:03:25.040612",
     "exception": false,
     "start_time": "2025-03-11T14:03:25.022877",
     "status": "completed"
    },
    "tags": []
   },
   "outputs": [],
   "source": [
    "id2gender = {\n",
    "    0: 'male',\n",
    "    1: 'female'\n",
    "}"
   ]
  },
  {
   "cell_type": "code",
   "execution_count": 2,
   "id": "c682a243",
   "metadata": {
    "execution": {
     "iopub.execute_input": "2025-03-11T14:03:25.063534Z",
     "iopub.status.busy": "2025-03-11T14:03:25.063284Z",
     "iopub.status.idle": "2025-03-11T14:03:25.066151Z",
     "shell.execute_reply": "2025-03-11T14:03:25.065551Z"
    },
    "papermill": {
     "duration": 0.01555,
     "end_time": "2025-03-11T14:03:25.067298",
     "exception": false,
     "start_time": "2025-03-11T14:03:25.051748",
     "status": "completed"
    },
    "tags": []
   },
   "outputs": [],
   "source": [
    "dataroot = '/kaggle/input/utkface-new'"
   ]
  },
  {
   "cell_type": "code",
   "execution_count": 3,
   "id": "194a9b1a",
   "metadata": {
    "execution": {
     "iopub.execute_input": "2025-03-11T14:03:25.089245Z",
     "iopub.status.busy": "2025-03-11T14:03:25.089047Z",
     "iopub.status.idle": "2025-03-11T14:03:25.091776Z",
     "shell.execute_reply": "2025-03-11T14:03:25.091200Z"
    },
    "papermill": {
     "duration": 0.015015,
     "end_time": "2025-03-11T14:03:25.092923",
     "exception": false,
     "start_time": "2025-03-11T14:03:25.077908",
     "status": "completed"
    },
    "tags": []
   },
   "outputs": [],
   "source": [
    "from pathlib import Path"
   ]
  },
  {
   "cell_type": "code",
   "execution_count": 4,
   "id": "97637768",
   "metadata": {
    "execution": {
     "iopub.execute_input": "2025-03-11T14:03:25.115648Z",
     "iopub.status.busy": "2025-03-11T14:03:25.115437Z",
     "iopub.status.idle": "2025-03-11T14:03:25.118478Z",
     "shell.execute_reply": "2025-03-11T14:03:25.117809Z"
    },
    "papermill": {
     "duration": 0.015708,
     "end_time": "2025-03-11T14:03:25.119644",
     "exception": false,
     "start_time": "2025-03-11T14:03:25.103936",
     "status": "completed"
    },
    "tags": []
   },
   "outputs": [],
   "source": [
    "dataroot = Path(dataroot)"
   ]
  },
  {
   "cell_type": "code",
   "execution_count": 5,
   "id": "fb012158",
   "metadata": {
    "execution": {
     "iopub.execute_input": "2025-03-11T14:03:25.141930Z",
     "iopub.status.busy": "2025-03-11T14:03:25.141701Z",
     "iopub.status.idle": "2025-03-11T14:03:25.735851Z",
     "shell.execute_reply": "2025-03-11T14:03:25.735050Z"
    },
    "papermill": {
     "duration": 0.606691,
     "end_time": "2025-03-11T14:03:25.737156",
     "exception": false,
     "start_time": "2025-03-11T14:03:25.130465",
     "status": "completed"
    },
    "tags": []
   },
   "outputs": [
    {
     "data": {
      "text/plain": [
       "23708"
      ]
     },
     "execution_count": 5,
     "metadata": {},
     "output_type": "execute_result"
    }
   ],
   "source": [
    "files = sorted((dataroot / 'UTKFace').glob(\"*.jpg\"))\n",
    "len(files)"
   ]
  },
  {
   "cell_type": "code",
   "execution_count": 6,
   "id": "0f31da25",
   "metadata": {
    "execution": {
     "iopub.execute_input": "2025-03-11T14:03:25.759967Z",
     "iopub.status.busy": "2025-03-11T14:03:25.759745Z",
     "iopub.status.idle": "2025-03-11T14:03:26.104571Z",
     "shell.execute_reply": "2025-03-11T14:03:26.103611Z"
    },
    "papermill": {
     "duration": 0.357463,
     "end_time": "2025-03-11T14:03:26.106028",
     "exception": false,
     "start_time": "2025-03-11T14:03:25.748565",
     "status": "completed"
    },
    "tags": []
   },
   "outputs": [
    {
     "data": {
      "text/plain": [
       "9780"
      ]
     },
     "execution_count": 6,
     "metadata": {},
     "output_type": "execute_result"
    }
   ],
   "source": [
    "files_part = sorted((dataroot / 'crop_part1').glob(\"*.jpg\"))\n",
    "len(files_part)"
   ]
  },
  {
   "cell_type": "code",
   "execution_count": 7,
   "id": "c3507ead",
   "metadata": {
    "execution": {
     "iopub.execute_input": "2025-03-11T14:03:26.129674Z",
     "iopub.status.busy": "2025-03-11T14:03:26.129327Z",
     "iopub.status.idle": "2025-03-11T14:03:26.164851Z",
     "shell.execute_reply": "2025-03-11T14:03:26.164021Z"
    },
    "papermill": {
     "duration": 0.048634,
     "end_time": "2025-03-11T14:03:26.166158",
     "exception": false,
     "start_time": "2025-03-11T14:03:26.117524",
     "status": "completed"
    },
    "tags": []
   },
   "outputs": [
    {
     "data": {
      "text/plain": [
       "9779"
      ]
     },
     "execution_count": 7,
     "metadata": {},
     "output_type": "execute_result"
    }
   ],
   "source": [
    "duplicates = set([f.name for f in files]) & set([f.name for f in files_part])\n",
    "len(duplicates)"
   ]
  },
  {
   "cell_type": "code",
   "execution_count": 8,
   "id": "07cee559",
   "metadata": {
    "execution": {
     "iopub.execute_input": "2025-03-11T14:03:26.189968Z",
     "iopub.status.busy": "2025-03-11T14:03:26.189747Z",
     "iopub.status.idle": "2025-03-11T14:03:26.199157Z",
     "shell.execute_reply": "2025-03-11T14:03:26.198438Z"
    },
    "papermill": {
     "duration": 0.023022,
     "end_time": "2025-03-11T14:03:26.200589",
     "exception": false,
     "start_time": "2025-03-11T14:03:26.177567",
     "status": "completed"
    },
    "tags": []
   },
   "outputs": [
    {
     "data": {
      "text/plain": [
       "{'61_3_20170109150557335.jpg.chip.jpg'}"
      ]
     },
     "execution_count": 8,
     "metadata": {},
     "output_type": "execute_result"
    }
   ],
   "source": [
    "set([f.name for f in files_part]) - set(duplicates)"
   ]
  },
  {
   "cell_type": "code",
   "execution_count": 9,
   "id": "b3303833",
   "metadata": {
    "execution": {
     "iopub.execute_input": "2025-03-11T14:03:26.230479Z",
     "iopub.status.busy": "2025-03-11T14:03:26.230209Z",
     "iopub.status.idle": "2025-03-11T14:03:26.234926Z",
     "shell.execute_reply": "2025-03-11T14:03:26.234169Z"
    },
    "papermill": {
     "duration": 0.024482,
     "end_time": "2025-03-11T14:03:26.236169",
     "exception": false,
     "start_time": "2025-03-11T14:03:26.211687",
     "status": "completed"
    },
    "tags": []
   },
   "outputs": [
    {
     "data": {
      "text/plain": [
       "'100_0_0_20170112213500903.jpg.chip.jpg'"
      ]
     },
     "execution_count": 9,
     "metadata": {},
     "output_type": "execute_result"
    }
   ],
   "source": [
    "f = files[0]\n",
    "f.name"
   ]
  },
  {
   "cell_type": "code",
   "execution_count": 10,
   "id": "0b968ab2",
   "metadata": {
    "execution": {
     "iopub.execute_input": "2025-03-11T14:03:26.258904Z",
     "iopub.status.busy": "2025-03-11T14:03:26.258703Z",
     "iopub.status.idle": "2025-03-11T14:03:26.263045Z",
     "shell.execute_reply": "2025-03-11T14:03:26.262293Z"
    },
    "papermill": {
     "duration": 0.017095,
     "end_time": "2025-03-11T14:03:26.264317",
     "exception": false,
     "start_time": "2025-03-11T14:03:26.247222",
     "status": "completed"
    },
    "tags": []
   },
   "outputs": [
    {
     "data": {
      "text/plain": [
       "str"
      ]
     },
     "execution_count": 10,
     "metadata": {},
     "output_type": "execute_result"
    }
   ],
   "source": [
    "type(f.name)"
   ]
  },
  {
   "cell_type": "code",
   "execution_count": 11,
   "id": "bf1fad26",
   "metadata": {
    "execution": {
     "iopub.execute_input": "2025-03-11T14:03:26.287113Z",
     "iopub.status.busy": "2025-03-11T14:03:26.286849Z",
     "iopub.status.idle": "2025-03-11T14:03:26.291761Z",
     "shell.execute_reply": "2025-03-11T14:03:26.291086Z"
    },
    "papermill": {
     "duration": 0.017622,
     "end_time": "2025-03-11T14:03:26.293001",
     "exception": false,
     "start_time": "2025-03-11T14:03:26.275379",
     "status": "completed"
    },
    "tags": []
   },
   "outputs": [
    {
     "data": {
      "text/plain": [
       "['100', '0', '0', '20170112213500903']"
      ]
     },
     "execution_count": 11,
     "metadata": {},
     "output_type": "execute_result"
    }
   ],
   "source": [
    "parts = f.name.split('.')[0].split('_')\n",
    "parts"
   ]
  },
  {
   "cell_type": "code",
   "execution_count": 12,
   "id": "bdbc103e",
   "metadata": {
    "execution": {
     "iopub.execute_input": "2025-03-11T14:03:26.318113Z",
     "iopub.status.busy": "2025-03-11T14:03:26.317911Z",
     "iopub.status.idle": "2025-03-11T14:03:26.325486Z",
     "shell.execute_reply": "2025-03-11T14:03:26.324671Z"
    },
    "papermill": {
     "duration": 0.022703,
     "end_time": "2025-03-11T14:03:26.326928",
     "exception": false,
     "start_time": "2025-03-11T14:03:26.304225",
     "status": "completed"
    },
    "tags": []
   },
   "outputs": [
    {
     "data": {
      "text/plain": [
       "'/kaggle/input/utkface-new/UTKFace/100_0_0_20170112213500903.jpg.chip.jpg'"
      ]
     },
     "execution_count": 12,
     "metadata": {},
     "output_type": "execute_result"
    }
   ],
   "source": [
    "str(f.resolve())"
   ]
  },
  {
   "cell_type": "code",
   "execution_count": 13,
   "id": "fb1830e8",
   "metadata": {
    "execution": {
     "iopub.execute_input": "2025-03-11T14:03:26.354780Z",
     "iopub.status.busy": "2025-03-11T14:03:26.354482Z",
     "iopub.status.idle": "2025-03-11T14:03:26.359016Z",
     "shell.execute_reply": "2025-03-11T14:03:26.358277Z"
    },
    "papermill": {
     "duration": 0.019006,
     "end_time": "2025-03-11T14:03:26.360254",
     "exception": false,
     "start_time": "2025-03-11T14:03:26.341248",
     "status": "completed"
    },
    "tags": []
   },
   "outputs": [],
   "source": [
    "def parse_filename(f):\n",
    "    parts = f.name.split('.')[0].split('_')\n",
    "    age = int(parts[0])\n",
    "    gender = int(parts[1])\n",
    "    return str(f.resolve()), age, gender"
   ]
  },
  {
   "cell_type": "code",
   "execution_count": 14,
   "id": "6ecb2b64",
   "metadata": {
    "execution": {
     "iopub.execute_input": "2025-03-11T14:03:26.383554Z",
     "iopub.status.busy": "2025-03-11T14:03:26.383259Z",
     "iopub.status.idle": "2025-03-11T14:03:49.735445Z",
     "shell.execute_reply": "2025-03-11T14:03:49.734758Z"
    },
    "papermill": {
     "duration": 23.365482,
     "end_time": "2025-03-11T14:03:49.736929",
     "exception": false,
     "start_time": "2025-03-11T14:03:26.371447",
     "status": "completed"
    },
    "tags": []
   },
   "outputs": [],
   "source": [
    "data = [parse_filename(f) for f in files_part]"
   ]
  },
  {
   "cell_type": "code",
   "execution_count": 15,
   "id": "238beb7f",
   "metadata": {
    "execution": {
     "iopub.execute_input": "2025-03-11T14:03:49.760802Z",
     "iopub.status.busy": "2025-03-11T14:03:49.760576Z",
     "iopub.status.idle": "2025-03-11T14:03:49.765219Z",
     "shell.execute_reply": "2025-03-11T14:03:49.764596Z"
    },
    "papermill": {
     "duration": 0.017837,
     "end_time": "2025-03-11T14:03:49.766495",
     "exception": false,
     "start_time": "2025-03-11T14:03:49.748658",
     "status": "completed"
    },
    "tags": []
   },
   "outputs": [
    {
     "data": {
      "text/plain": [
       "[('/kaggle/input/utkface-new/crop_part1/100_1_0_20170110183726390.jpg.chip.jpg',\n",
       "  100,\n",
       "  1),\n",
       " ('/kaggle/input/utkface-new/crop_part1/100_1_2_20170105174847679.jpg.chip.jpg',\n",
       "  100,\n",
       "  1),\n",
       " ('/kaggle/input/utkface-new/crop_part1/101_1_2_20170105174739309.jpg.chip.jpg',\n",
       "  101,\n",
       "  1),\n",
       " ('/kaggle/input/utkface-new/crop_part1/10_0_0_20161220222308131.jpg.chip.jpg',\n",
       "  10,\n",
       "  0),\n",
       " ('/kaggle/input/utkface-new/crop_part1/10_0_0_20170103200329407.jpg.chip.jpg',\n",
       "  10,\n",
       "  0),\n",
       " ('/kaggle/input/utkface-new/crop_part1/10_0_0_20170103200522151.jpg.chip.jpg',\n",
       "  10,\n",
       "  0),\n",
       " ('/kaggle/input/utkface-new/crop_part1/10_0_0_20170103233459275.jpg.chip.jpg',\n",
       "  10,\n",
       "  0),\n",
       " ('/kaggle/input/utkface-new/crop_part1/10_0_0_20170104013211746.jpg.chip.jpg',\n",
       "  10,\n",
       "  0),\n",
       " ('/kaggle/input/utkface-new/crop_part1/10_0_0_20170110215927291.jpg.chip.jpg',\n",
       "  10,\n",
       "  0),\n",
       " ('/kaggle/input/utkface-new/crop_part1/10_0_0_20170110220033115.jpg.chip.jpg',\n",
       "  10,\n",
       "  0)]"
      ]
     },
     "execution_count": 15,
     "metadata": {},
     "output_type": "execute_result"
    }
   ],
   "source": [
    "data[:10]"
   ]
  },
  {
   "cell_type": "code",
   "execution_count": 16,
   "id": "02a01837",
   "metadata": {
    "execution": {
     "iopub.execute_input": "2025-03-11T14:03:49.789675Z",
     "iopub.status.busy": "2025-03-11T14:03:49.789449Z",
     "iopub.status.idle": "2025-03-11T14:03:50.512702Z",
     "shell.execute_reply": "2025-03-11T14:03:50.512040Z"
    },
    "papermill": {
     "duration": 0.73653,
     "end_time": "2025-03-11T14:03:50.514201",
     "exception": false,
     "start_time": "2025-03-11T14:03:49.777671",
     "status": "completed"
    },
    "tags": []
   },
   "outputs": [],
   "source": [
    "import pandas as pd"
   ]
  },
  {
   "cell_type": "code",
   "execution_count": 17,
   "id": "ce8d79d8",
   "metadata": {
    "execution": {
     "iopub.execute_input": "2025-03-11T14:03:50.538017Z",
     "iopub.status.busy": "2025-03-11T14:03:50.537688Z",
     "iopub.status.idle": "2025-03-11T14:03:50.570164Z",
     "shell.execute_reply": "2025-03-11T14:03:50.569541Z"
    },
    "papermill": {
     "duration": 0.045225,
     "end_time": "2025-03-11T14:03:50.571267",
     "exception": false,
     "start_time": "2025-03-11T14:03:50.526042",
     "status": "completed"
    },
    "tags": []
   },
   "outputs": [
    {
     "data": {
      "text/html": [
       "<div>\n",
       "<style scoped>\n",
       "    .dataframe tbody tr th:only-of-type {\n",
       "        vertical-align: middle;\n",
       "    }\n",
       "\n",
       "    .dataframe tbody tr th {\n",
       "        vertical-align: top;\n",
       "    }\n",
       "\n",
       "    .dataframe thead th {\n",
       "        text-align: right;\n",
       "    }\n",
       "</style>\n",
       "<table border=\"1\" class=\"dataframe\">\n",
       "  <thead>\n",
       "    <tr style=\"text-align: right;\">\n",
       "      <th></th>\n",
       "      <th>file</th>\n",
       "      <th>age</th>\n",
       "      <th>gender</th>\n",
       "    </tr>\n",
       "  </thead>\n",
       "  <tbody>\n",
       "    <tr>\n",
       "      <th>0</th>\n",
       "      <td>/kaggle/input/utkface-new/crop_part1/100_1_0_2...</td>\n",
       "      <td>100</td>\n",
       "      <td>1</td>\n",
       "    </tr>\n",
       "    <tr>\n",
       "      <th>1</th>\n",
       "      <td>/kaggle/input/utkface-new/crop_part1/100_1_2_2...</td>\n",
       "      <td>100</td>\n",
       "      <td>1</td>\n",
       "    </tr>\n",
       "    <tr>\n",
       "      <th>2</th>\n",
       "      <td>/kaggle/input/utkface-new/crop_part1/101_1_2_2...</td>\n",
       "      <td>101</td>\n",
       "      <td>1</td>\n",
       "    </tr>\n",
       "    <tr>\n",
       "      <th>3</th>\n",
       "      <td>/kaggle/input/utkface-new/crop_part1/10_0_0_20...</td>\n",
       "      <td>10</td>\n",
       "      <td>0</td>\n",
       "    </tr>\n",
       "    <tr>\n",
       "      <th>4</th>\n",
       "      <td>/kaggle/input/utkface-new/crop_part1/10_0_0_20...</td>\n",
       "      <td>10</td>\n",
       "      <td>0</td>\n",
       "    </tr>\n",
       "    <tr>\n",
       "      <th>...</th>\n",
       "      <td>...</td>\n",
       "      <td>...</td>\n",
       "      <td>...</td>\n",
       "    </tr>\n",
       "    <tr>\n",
       "      <th>9775</th>\n",
       "      <td>/kaggle/input/utkface-new/crop_part1/9_1_3_201...</td>\n",
       "      <td>9</td>\n",
       "      <td>1</td>\n",
       "    </tr>\n",
       "    <tr>\n",
       "      <th>9776</th>\n",
       "      <td>/kaggle/input/utkface-new/crop_part1/9_1_3_201...</td>\n",
       "      <td>9</td>\n",
       "      <td>1</td>\n",
       "    </tr>\n",
       "    <tr>\n",
       "      <th>9777</th>\n",
       "      <td>/kaggle/input/utkface-new/crop_part1/9_1_4_201...</td>\n",
       "      <td>9</td>\n",
       "      <td>1</td>\n",
       "    </tr>\n",
       "    <tr>\n",
       "      <th>9778</th>\n",
       "      <td>/kaggle/input/utkface-new/crop_part1/9_1_4_201...</td>\n",
       "      <td>9</td>\n",
       "      <td>1</td>\n",
       "    </tr>\n",
       "    <tr>\n",
       "      <th>9779</th>\n",
       "      <td>/kaggle/input/utkface-new/crop_part1/9_1_4_201...</td>\n",
       "      <td>9</td>\n",
       "      <td>1</td>\n",
       "    </tr>\n",
       "  </tbody>\n",
       "</table>\n",
       "<p>9780 rows × 3 columns</p>\n",
       "</div>"
      ],
      "text/plain": [
       "                                                   file  age  gender\n",
       "0     /kaggle/input/utkface-new/crop_part1/100_1_0_2...  100       1\n",
       "1     /kaggle/input/utkface-new/crop_part1/100_1_2_2...  100       1\n",
       "2     /kaggle/input/utkface-new/crop_part1/101_1_2_2...  101       1\n",
       "3     /kaggle/input/utkface-new/crop_part1/10_0_0_20...   10       0\n",
       "4     /kaggle/input/utkface-new/crop_part1/10_0_0_20...   10       0\n",
       "...                                                 ...  ...     ...\n",
       "9775  /kaggle/input/utkface-new/crop_part1/9_1_3_201...    9       1\n",
       "9776  /kaggle/input/utkface-new/crop_part1/9_1_3_201...    9       1\n",
       "9777  /kaggle/input/utkface-new/crop_part1/9_1_4_201...    9       1\n",
       "9778  /kaggle/input/utkface-new/crop_part1/9_1_4_201...    9       1\n",
       "9779  /kaggle/input/utkface-new/crop_part1/9_1_4_201...    9       1\n",
       "\n",
       "[9780 rows x 3 columns]"
      ]
     },
     "execution_count": 17,
     "metadata": {},
     "output_type": "execute_result"
    }
   ],
   "source": [
    "df = pd.DataFrame(data, columns=['file', 'age', 'gender'])\n",
    "df"
   ]
  },
  {
   "cell_type": "code",
   "execution_count": 18,
   "id": "45d0e9c9",
   "metadata": {
    "execution": {
     "iopub.execute_input": "2025-03-11T14:03:50.595004Z",
     "iopub.status.busy": "2025-03-11T14:03:50.594794Z",
     "iopub.status.idle": "2025-03-11T14:03:50.880259Z",
     "shell.execute_reply": "2025-03-11T14:03:50.879407Z"
    },
    "papermill": {
     "duration": 0.298692,
     "end_time": "2025-03-11T14:03:50.881660",
     "exception": false,
     "start_time": "2025-03-11T14:03:50.582968",
     "status": "completed"
    },
    "tags": []
   },
   "outputs": [
    {
     "data": {
      "image/png": "[encoded data removed]",
      "text/plain": [
       "<Figure size 640x480 with 1 Axes>"
      ]
     },
     "metadata": {},
     "output_type": "display_data"
    }
   ],
   "source": [
    "df['age'].hist();"
   ]
  },
  {
   "cell_type": "code",
   "execution_count": 19,
   "id": "b034892c",
   "metadata": {
    "execution": {
     "iopub.execute_input": "2025-03-11T14:03:50.906081Z",
     "iopub.status.busy": "2025-03-11T14:03:50.905847Z",
     "iopub.status.idle": "2025-03-11T14:03:51.060291Z",
     "shell.execute_reply": "2025-03-11T14:03:51.059400Z"
    },
    "papermill": {
     "duration": 0.168289,
     "end_time": "2025-03-11T14:03:51.061912",
     "exception": false,
     "start_time": "2025-03-11T14:03:50.893623",
     "status": "completed"
    },
    "tags": []
   },
   "outputs": [
    {
     "data": {
      "image/png": "[encoded data removed]",
      "text/plain": [
       "<Figure size 640x480 with 1 Axes>"
      ]
     },
     "metadata": {},
     "output_type": "display_data"
    }
   ],
   "source": [
    "df['gender'].hist();"
   ]
  },
  {
   "cell_type": "code",
   "execution_count": 20,
   "id": "387357de",
   "metadata": {
    "execution": {
     "iopub.execute_input": "2025-03-11T14:03:51.087441Z",
     "iopub.status.busy": "2025-03-11T14:03:51.087167Z",
     "iopub.status.idle": "2025-03-11T14:03:51.091370Z",
     "shell.execute_reply": "2025-03-11T14:03:51.090700Z"
    },
    "papermill": {
     "duration": 0.017871,
     "end_time": "2025-03-11T14:03:51.092482",
     "exception": false,
     "start_time": "2025-03-11T14:03:51.074611",
     "status": "completed"
    },
    "tags": []
   },
   "outputs": [
    {
     "data": {
      "text/plain": [
       "9780"
      ]
     },
     "execution_count": 20,
     "metadata": {},
     "output_type": "execute_result"
    }
   ],
   "source": [
    "len(df)"
   ]
  },
  {
   "cell_type": "code",
   "execution_count": 21,
   "id": "124b9065",
   "metadata": {
    "execution": {
     "iopub.execute_input": "2025-03-11T14:03:51.117671Z",
     "iopub.status.busy": "2025-03-11T14:03:51.117453Z",
     "iopub.status.idle": "2025-03-11T14:03:51.122858Z",
     "shell.execute_reply": "2025-03-11T14:03:51.122221Z"
    },
    "papermill": {
     "duration": 0.019268,
     "end_time": "2025-03-11T14:03:51.124131",
     "exception": false,
     "start_time": "2025-03-11T14:03:51.104863",
     "status": "completed"
    },
    "tags": []
   },
   "outputs": [
    {
     "data": {
      "text/plain": [
       "file      /kaggle/input/utkface-new/crop_part1/100_1_0_2...\n",
       "age                                                     100\n",
       "gender                                                    1\n",
       "Name: 0, dtype: object"
      ]
     },
     "execution_count": 21,
     "metadata": {},
     "output_type": "execute_result"
    }
   ],
   "source": [
    "idx = 0\n",
    "sample = df.iloc[idx]\n",
    "sample"
   ]
  },
  {
   "cell_type": "code",
   "execution_count": 22,
   "id": "e1d9cd14",
   "metadata": {
    "execution": {
     "iopub.execute_input": "2025-03-11T14:03:51.149645Z",
     "iopub.status.busy": "2025-03-11T14:03:51.149428Z",
     "iopub.status.idle": "2025-03-11T14:03:51.153954Z",
     "shell.execute_reply": "2025-03-11T14:03:51.153137Z"
    },
    "papermill": {
     "duration": 0.018531,
     "end_time": "2025-03-11T14:03:51.155266",
     "exception": false,
     "start_time": "2025-03-11T14:03:51.136735",
     "status": "completed"
    },
    "tags": []
   },
   "outputs": [
    {
     "name": "stdout",
     "output_type": "stream",
     "text": [
      "/kaggle/input/utkface-new/crop_part1/100_1_0_20170110183726390.jpg.chip.jpg 100 1\n"
     ]
    }
   ],
   "source": [
    "file = sample['file']\n",
    "age = sample['age']\n",
    "gender = sample['gender']\n",
    "print(file, age, gender)"
   ]
  },
  {
   "cell_type": "code",
   "execution_count": 23,
   "id": "5be51ccb",
   "metadata": {
    "execution": {
     "iopub.execute_input": "2025-03-11T14:03:51.180496Z",
     "iopub.status.busy": "2025-03-11T14:03:51.180241Z",
     "iopub.status.idle": "2025-03-11T14:03:54.767194Z",
     "shell.execute_reply": "2025-03-11T14:03:54.766514Z"
    },
    "papermill": {
     "duration": 3.601295,
     "end_time": "2025-03-11T14:03:54.768841",
     "exception": false,
     "start_time": "2025-03-11T14:03:51.167546",
     "status": "completed"
    },
    "tags": []
   },
   "outputs": [],
   "source": [
    "import torch"
   ]
  },
  {
   "cell_type": "code",
   "execution_count": 24,
   "id": "18dd3e75",
   "metadata": {
    "execution": {
     "iopub.execute_input": "2025-03-11T14:03:54.795654Z",
     "iopub.status.busy": "2025-03-11T14:03:54.795278Z",
     "iopub.status.idle": "2025-03-11T14:03:54.800205Z",
     "shell.execute_reply": "2025-03-11T14:03:54.799555Z"
    },
    "papermill": {
     "duration": 0.019456,
     "end_time": "2025-03-11T14:03:54.801442",
     "exception": false,
     "start_time": "2025-03-11T14:03:54.781986",
     "status": "completed"
    },
    "tags": []
   },
   "outputs": [],
   "source": [
    "from torch.utils.data import Dataset, DataLoader\n",
    "from PIL import Image\n",
    "\n",
    "class GenderAgeClass(Dataset):\n",
    "  def __init__(self, df, transform=None):\n",
    "    self.df = df\n",
    "    self.transform = transform\n",
    "\n",
    "  def __len__(self):\n",
    "    return len(self.df)\n",
    "\n",
    "  def __getitem__(self, idx):\n",
    "    sample = self.df.iloc[idx]\n",
    "    age = torch.Tensor([float(sample['age']/100)])\n",
    "    gender = torch.Tensor([int(sample['gender'])])\n",
    "    image = Image.open(sample['file'])\n",
    "    if self.transform:\n",
    "      image = self.transform(image)\n",
    "    return image, age, gender"
   ]
  },
  {
   "cell_type": "code",
   "execution_count": 25,
   "id": "9684adb8",
   "metadata": {
    "execution": {
     "iopub.execute_input": "2025-03-11T14:03:54.826291Z",
     "iopub.status.busy": "2025-03-11T14:03:54.826083Z",
     "iopub.status.idle": "2025-03-11T14:03:55.837482Z",
     "shell.execute_reply": "2025-03-11T14:03:55.836751Z"
    },
    "papermill": {
     "duration": 1.025328,
     "end_time": "2025-03-11T14:03:55.839002",
     "exception": false,
     "start_time": "2025-03-11T14:03:54.813674",
     "status": "completed"
    },
    "tags": []
   },
   "outputs": [],
   "source": [
    "from sklearn.model_selection import train_test_split"
   ]
  },
  {
   "cell_type": "code",
   "execution_count": 26,
   "id": "a8bd7d88",
   "metadata": {
    "execution": {
     "iopub.execute_input": "2025-03-11T14:03:55.901721Z",
     "iopub.status.busy": "2025-03-11T14:03:55.901266Z",
     "iopub.status.idle": "2025-03-11T14:03:55.909962Z",
     "shell.execute_reply": "2025-03-11T14:03:55.909380Z"
    },
    "papermill": {
     "duration": 0.059271,
     "end_time": "2025-03-11T14:03:55.911076",
     "exception": false,
     "start_time": "2025-03-11T14:03:55.851805",
     "status": "completed"
    },
    "tags": []
   },
   "outputs": [],
   "source": [
    "train_df, temp_df = train_test_split(df, test_size=0.3, random_state=42)\n",
    "val_df, test_df = train_test_split(temp_df, test_size=0.5, random_state=42)\n",
    "\n",
    "train_df = train_df.reset_index(drop=True)\n",
    "val_df = val_df.reset_index(drop=True)\n",
    "test_df = test_df.reset_index(drop=True)"
   ]
  },
  {
   "cell_type": "code",
   "execution_count": 27,
   "id": "bc70b7b0",
   "metadata": {
    "execution": {
     "iopub.execute_input": "2025-03-11T14:03:55.936403Z",
     "iopub.status.busy": "2025-03-11T14:03:55.936148Z",
     "iopub.status.idle": "2025-03-11T14:03:55.938948Z",
     "shell.execute_reply": "2025-03-11T14:03:55.938382Z"
    },
    "papermill": {
     "duration": 0.016844,
     "end_time": "2025-03-11T14:03:55.940294",
     "exception": false,
     "start_time": "2025-03-11T14:03:55.923450",
     "status": "completed"
    },
    "tags": []
   },
   "outputs": [],
   "source": [
    "import torch"
   ]
  },
  {
   "cell_type": "code",
   "execution_count": 28,
   "id": "7e0662f1",
   "metadata": {
    "execution": {
     "iopub.execute_input": "2025-03-11T14:03:55.965276Z",
     "iopub.status.busy": "2025-03-11T14:03:55.965064Z",
     "iopub.status.idle": "2025-03-11T14:03:56.013726Z",
     "shell.execute_reply": "2025-03-11T14:03:56.013060Z"
    },
    "papermill": {
     "duration": 0.062467,
     "end_time": "2025-03-11T14:03:56.015002",
     "exception": false,
     "start_time": "2025-03-11T14:03:55.952535",
     "status": "completed"
    },
    "tags": []
   },
   "outputs": [],
   "source": [
    "device = torch.device(\"cuda\" if torch.cuda.is_available() else \"cpu\")"
   ]
  },
  {
   "cell_type": "code",
   "execution_count": 29,
   "id": "fbf2ba70",
   "metadata": {
    "execution": {
     "iopub.execute_input": "2025-03-11T14:03:56.040659Z",
     "iopub.status.busy": "2025-03-11T14:03:56.040432Z",
     "iopub.status.idle": "2025-03-11T14:04:03.492363Z",
     "shell.execute_reply": "2025-03-11T14:04:03.491455Z"
    },
    "papermill": {
     "duration": 7.466575,
     "end_time": "2025-03-11T14:04:03.494051",
     "exception": false,
     "start_time": "2025-03-11T14:03:56.027476",
     "status": "completed"
    },
    "tags": []
   },
   "outputs": [],
   "source": [
    "import timm"
   ]
  },
  {
   "cell_type": "code",
   "execution_count": 30,
   "id": "796df519",
   "metadata": {
    "execution": {
     "iopub.execute_input": "2025-03-11T14:04:03.520258Z",
     "iopub.status.busy": "2025-03-11T14:04:03.520014Z",
     "iopub.status.idle": "2025-03-11T14:04:08.613166Z",
     "shell.execute_reply": "2025-03-11T14:04:08.612232Z"
    },
    "papermill": {
     "duration": 5.107472,
     "end_time": "2025-03-11T14:04:08.614741",
     "exception": false,
     "start_time": "2025-03-11T14:04:03.507269",
     "status": "completed"
    },
    "tags": []
   },
   "outputs": [
    {
     "data": {
      "application/vnd.jupyter.widget-view+json": {
       "model_id": "9ec93af9926345ea9a0a0dfde4be01e2",
       "version_major": 2,
       "version_minor": 0
      },
      "text/plain": [
       "model.safetensors:   0%|          | 0.00/553M [00:00<?, ?B/s]"
      ]
     },
     "metadata": {},
     "output_type": "display_data"
    }
   ],
   "source": [
    "model = timm.create_model(\"vgg16\", pretrained=True).to(device)\n",
    "data_cfg = timm.data.resolve_data_config(model.pretrained_cfg)\n",
    "transform = timm.data.create_transform(**data_cfg)"
   ]
  },
  {
   "cell_type": "code",
   "execution_count": 31,
   "id": "467f1d72",
   "metadata": {
    "execution": {
     "iopub.execute_input": "2025-03-11T14:04:08.641712Z",
     "iopub.status.busy": "2025-03-11T14:04:08.641444Z",
     "iopub.status.idle": "2025-03-11T14:04:08.644924Z",
     "shell.execute_reply": "2025-03-11T14:04:08.644089Z"
    },
    "papermill": {
     "duration": 0.017828,
     "end_time": "2025-03-11T14:04:08.646131",
     "exception": false,
     "start_time": "2025-03-11T14:04:08.628303",
     "status": "completed"
    },
    "tags": []
   },
   "outputs": [],
   "source": [
    "train_dataset = GenderAgeClass(train_df, transform=transform)\n",
    "val_dataset = GenderAgeClass(val_df, transform=transform)"
   ]
  },
  {
   "cell_type": "code",
   "execution_count": 32,
   "id": "de6dbdae",
   "metadata": {
    "execution": {
     "iopub.execute_input": "2025-03-11T14:04:08.671526Z",
     "iopub.status.busy": "2025-03-11T14:04:08.671270Z",
     "iopub.status.idle": "2025-03-11T14:04:08.730974Z",
     "shell.execute_reply": "2025-03-11T14:04:08.730292Z"
    },
    "papermill": {
     "duration": 0.07353,
     "end_time": "2025-03-11T14:04:08.732153",
     "exception": false,
     "start_time": "2025-03-11T14:04:08.658623",
     "status": "completed"
    },
    "tags": []
   },
   "outputs": [
    {
     "data": {
      "text/plain": [
       "(torch.Size([3, 224, 224]), tensor([0.0800]), tensor([1.]))"
      ]
     },
     "execution_count": 32,
     "metadata": {},
     "output_type": "execute_result"
    }
   ],
   "source": [
    "spl = train_dataset[0]\n",
    "spl[0].shape, spl[1], spl[2]"
   ]
  },
  {
   "cell_type": "code",
   "execution_count": 33,
   "id": "5a4fc0e2",
   "metadata": {
    "execution": {
     "iopub.execute_input": "2025-03-11T14:04:08.757527Z",
     "iopub.status.busy": "2025-03-11T14:04:08.757274Z",
     "iopub.status.idle": "2025-03-11T14:04:08.760799Z",
     "shell.execute_reply": "2025-03-11T14:04:08.760154Z"
    },
    "papermill": {
     "duration": 0.01737,
     "end_time": "2025-03-11T14:04:08.761933",
     "exception": false,
     "start_time": "2025-03-11T14:04:08.744563",
     "status": "completed"
    },
    "tags": []
   },
   "outputs": [],
   "source": [
    "train_loader = DataLoader(train_dataset, batch_size=2, shuffle=True, drop_last=True)\n",
    "val_loader = DataLoader(val_dataset, batch_size=2, shuffle=False, drop_last=False)"
   ]
  },
  {
   "cell_type": "code",
   "execution_count": 34,
   "id": "a862d0f3",
   "metadata": {
    "execution": {
     "iopub.execute_input": "2025-03-11T14:04:08.787205Z",
     "iopub.status.busy": "2025-03-11T14:04:08.787003Z",
     "iopub.status.idle": "2025-03-11T14:04:08.815070Z",
     "shell.execute_reply": "2025-03-11T14:04:08.814272Z"
    },
    "papermill": {
     "duration": 0.042211,
     "end_time": "2025-03-11T14:04:08.816505",
     "exception": false,
     "start_time": "2025-03-11T14:04:08.774294",
     "status": "completed"
    },
    "tags": []
   },
   "outputs": [
    {
     "data": {
      "text/plain": [
       "(torch.Size([2, 3, 224, 224]), torch.Size([2, 1]), torch.Size([2, 1]))"
      ]
     },
     "execution_count": 34,
     "metadata": {},
     "output_type": "execute_result"
    }
   ],
   "source": [
    "batch = next(iter(train_loader))\n",
    "img, age, gender = batch\n",
    "img, age, gender = img.to(device), age.to(device), gender.to(device)\n",
    "img.shape, age.shape, gender.shape"
   ]
  },
  {
   "cell_type": "code",
   "execution_count": 35,
   "id": "b3afd37b",
   "metadata": {
    "execution": {
     "iopub.execute_input": "2025-03-11T14:04:08.842294Z",
     "iopub.status.busy": "2025-03-11T14:04:08.842075Z",
     "iopub.status.idle": "2025-03-11T14:04:08.846164Z",
     "shell.execute_reply": "2025-03-11T14:04:08.845517Z"
    },
    "papermill": {
     "duration": 0.018235,
     "end_time": "2025-03-11T14:04:08.847310",
     "exception": false,
     "start_time": "2025-03-11T14:04:08.829075",
     "status": "completed"
    },
    "tags": []
   },
   "outputs": [
    {
     "data": {
      "text/plain": [
       "(torch.float32, torch.float32, torch.float32)"
      ]
     },
     "execution_count": 35,
     "metadata": {},
     "output_type": "execute_result"
    }
   ],
   "source": [
    "img.dtype, age.dtype, gender.dtype"
   ]
  },
  {
   "cell_type": "code",
   "execution_count": 36,
   "id": "19d40b53",
   "metadata": {
    "execution": {
     "iopub.execute_input": "2025-03-11T14:04:08.872857Z",
     "iopub.status.busy": "2025-03-11T14:04:08.872654Z",
     "iopub.status.idle": "2025-03-11T14:04:09.541159Z",
     "shell.execute_reply": "2025-03-11T14:04:09.540208Z"
    },
    "papermill": {
     "duration": 0.682729,
     "end_time": "2025-03-11T14:04:09.542504",
     "exception": false,
     "start_time": "2025-03-11T14:04:08.859775",
     "status": "completed"
    },
    "tags": []
   },
   "outputs": [
    {
     "data": {
      "text/plain": [
       "torch.Size([2, 1000])"
      ]
     },
     "execution_count": 36,
     "metadata": {},
     "output_type": "execute_result"
    }
   ],
   "source": [
    "model(img).shape"
   ]
  },
  {
   "cell_type": "code",
   "execution_count": 37,
   "id": "ac24409f",
   "metadata": {
    "execution": {
     "iopub.execute_input": "2025-03-11T14:04:09.568843Z",
     "iopub.status.busy": "2025-03-11T14:04:09.568583Z",
     "iopub.status.idle": "2025-03-11T14:04:09.574493Z",
     "shell.execute_reply": "2025-03-11T14:04:09.573833Z"
    },
    "papermill": {
     "duration": 0.020114,
     "end_time": "2025-03-11T14:04:09.575630",
     "exception": false,
     "start_time": "2025-03-11T14:04:09.555516",
     "status": "completed"
    },
    "tags": []
   },
   "outputs": [
    {
     "data": {
      "text/plain": [
       "torch.Size([2, 512, 7, 7])"
      ]
     },
     "execution_count": 37,
     "metadata": {},
     "output_type": "execute_result"
    }
   ],
   "source": [
    "model.forward_features(img).shape"
   ]
  },
  {
   "cell_type": "code",
   "execution_count": 38,
   "id": "726c7250",
   "metadata": {
    "execution": {
     "iopub.execute_input": "2025-03-11T14:04:09.601781Z",
     "iopub.status.busy": "2025-03-11T14:04:09.601554Z",
     "iopub.status.idle": "2025-03-11T14:04:09.607104Z",
     "shell.execute_reply": "2025-03-11T14:04:09.606324Z"
    },
    "papermill": {
     "duration": 0.020061,
     "end_time": "2025-03-11T14:04:09.608271",
     "exception": false,
     "start_time": "2025-03-11T14:04:09.588210",
     "status": "completed"
    },
    "tags": []
   },
   "outputs": [
    {
     "data": {
      "text/plain": [
       "torch.Size([2, 512, 7, 7])"
      ]
     },
     "execution_count": 38,
     "metadata": {},
     "output_type": "execute_result"
    }
   ],
   "source": [
    "model.features(img).shape"
   ]
  },
  {
   "cell_type": "code",
   "execution_count": 39,
   "id": "1c57332a",
   "metadata": {
    "execution": {
     "iopub.execute_input": "2025-03-11T14:04:09.634604Z",
     "iopub.status.busy": "2025-03-11T14:04:09.634369Z",
     "iopub.status.idle": "2025-03-11T14:04:09.639140Z",
     "shell.execute_reply": "2025-03-11T14:04:09.638402Z"
    },
    "papermill": {
     "duration": 0.019518,
     "end_time": "2025-03-11T14:04:09.640489",
     "exception": false,
     "start_time": "2025-03-11T14:04:09.620971",
     "status": "completed"
    },
    "tags": []
   },
   "outputs": [
    {
     "data": {
      "text/plain": [
       "VGG(\n",
       "  (features): Sequential(\n",
       "    (0): Conv2d(3, 64, kernel_size=(3, 3), stride=(1, 1), padding=(1, 1))\n",
       "    (1): ReLU(inplace=True)\n",
       "    (2): Conv2d(64, 64, kernel_size=(3, 3), stride=(1, 1), padding=(1, 1))\n",
       "    (3): ReLU(inplace=True)\n",
       "    (4): MaxPool2d(kernel_size=2, stride=2, padding=0, dilation=1, ceil_mode=False)\n",
       "    (5): Conv2d(64, 128, kernel_size=(3, 3), stride=(1, 1), padding=(1, 1))\n",
       "    (6): ReLU(inplace=True)\n",
       "    (7): Conv2d(128, 128, kernel_size=(3, 3), stride=(1, 1), padding=(1, 1))\n",
       "    (8): ReLU(inplace=True)\n",
       "    (9): MaxPool2d(kernel_size=2, stride=2, padding=0, dilation=1, ceil_mode=False)\n",
       "    (10): Conv2d(128, 256, kernel_size=(3, 3), stride=(1, 1), padding=(1, 1))\n",
       "    (11): ReLU(inplace=True)\n",
       "    (12): Conv2d(256, 256, kernel_size=(3, 3), stride=(1, 1), padding=(1, 1))\n",
       "    (13): ReLU(inplace=True)\n",
       "    (14): Conv2d(256, 256, kernel_size=(3, 3), stride=(1, 1), padding=(1, 1))\n",
       "    (15): ReLU(inplace=True)\n",
       "    (16): MaxPool2d(kernel_size=2, stride=2, padding=0, dilation=1, ceil_mode=False)\n",
       "    (17): Conv2d(256, 512, kernel_size=(3, 3), stride=(1, 1), padding=(1, 1))\n",
       "    (18): ReLU(inplace=True)\n",
       "    (19): Conv2d(512, 512, kernel_size=(3, 3), stride=(1, 1), padding=(1, 1))\n",
       "    (20): ReLU(inplace=True)\n",
       "    (21): Conv2d(512, 512, kernel_size=(3, 3), stride=(1, 1), padding=(1, 1))\n",
       "    (22): ReLU(inplace=True)\n",
       "    (23): MaxPool2d(kernel_size=2, stride=2, padding=0, dilation=1, ceil_mode=False)\n",
       "    (24): Conv2d(512, 512, kernel_size=(3, 3), stride=(1, 1), padding=(1, 1))\n",
       "    (25): ReLU(inplace=True)\n",
       "    (26): Conv2d(512, 512, kernel_size=(3, 3), stride=(1, 1), padding=(1, 1))\n",
       "    (27): ReLU(inplace=True)\n",
       "    (28): Conv2d(512, 512, kernel_size=(3, 3), stride=(1, 1), padding=(1, 1))\n",
       "    (29): ReLU(inplace=True)\n",
       "    (30): MaxPool2d(kernel_size=2, stride=2, padding=0, dilation=1, ceil_mode=False)\n",
       "  )\n",
       "  (pre_logits): ConvMlp(\n",
       "    (fc1): Conv2d(512, 4096, kernel_size=(7, 7), stride=(1, 1))\n",
       "    (act1): ReLU(inplace=True)\n",
       "    (drop): Dropout(p=0.0, inplace=False)\n",
       "    (fc2): Conv2d(4096, 4096, kernel_size=(1, 1), stride=(1, 1))\n",
       "    (act2): ReLU(inplace=True)\n",
       "  )\n",
       "  (head): ClassifierHead(\n",
       "    (global_pool): SelectAdaptivePool2d(pool_type=avg, flatten=Flatten(start_dim=1, end_dim=-1))\n",
       "    (drop): Dropout(p=0.0, inplace=False)\n",
       "    (fc): Linear(in_features=4096, out_features=1000, bias=True)\n",
       "    (flatten): Identity()\n",
       "  )\n",
       ")"
      ]
     },
     "execution_count": 39,
     "metadata": {},
     "output_type": "execute_result"
    }
   ],
   "source": [
    "model"
   ]
  },
  {
   "cell_type": "code",
   "execution_count": 40,
   "id": "5f78a5a4",
   "metadata": {
    "execution": {
     "iopub.execute_input": "2025-03-11T14:04:09.667024Z",
     "iopub.status.busy": "2025-03-11T14:04:09.666783Z",
     "iopub.status.idle": "2025-03-11T14:04:09.669992Z",
     "shell.execute_reply": "2025-03-11T14:04:09.669208Z"
    },
    "papermill": {
     "duration": 0.017692,
     "end_time": "2025-03-11T14:04:09.671116",
     "exception": false,
     "start_time": "2025-03-11T14:04:09.653424",
     "status": "completed"
    },
    "tags": []
   },
   "outputs": [],
   "source": [
    "from torch import nn"
   ]
  },
  {
   "cell_type": "code",
   "execution_count": 41,
   "id": "610550f8",
   "metadata": {
    "execution": {
     "iopub.execute_input": "2025-03-11T14:04:09.697510Z",
     "iopub.status.busy": "2025-03-11T14:04:09.697259Z",
     "iopub.status.idle": "2025-03-11T14:04:09.702109Z",
     "shell.execute_reply": "2025-03-11T14:04:09.701368Z"
    },
    "papermill": {
     "duration": 0.019462,
     "end_time": "2025-03-11T14:04:09.703316",
     "exception": false,
     "start_time": "2025-03-11T14:04:09.683854",
     "status": "completed"
    },
    "tags": []
   },
   "outputs": [],
   "source": [
    "class ageGenderClassifier(nn.Module):\n",
    "    def __init__(self):\n",
    "        super().__init__()\n",
    "        self.intermediate = nn.Sequential(\n",
    "            nn.Linear(4096,512),\n",
    "            nn.ReLU(),\n",
    "            nn.Dropout(0.4),\n",
    "            nn.Linear(512,128),\n",
    "            nn.ReLU(),\n",
    "            nn.Dropout(0.4),\n",
    "            nn.Linear(128,64),\n",
    "            nn.ReLU(),\n",
    "        )\n",
    "        self.age_classifier = nn.Sequential(\n",
    "            nn.Linear(64, 1),\n",
    "            nn.Sigmoid()\n",
    "        )\n",
    "        self.gender_classifier = nn.Sequential(\n",
    "            nn.Linear(64, 1),\n",
    "        )\n",
    "    def forward(self, x):\n",
    "        x = self.intermediate(x)\n",
    "        age = self.age_classifier(x)\n",
    "        gender = self.gender_classifier(x)\n",
    "        return age, gender"
   ]
  },
  {
   "cell_type": "code",
   "execution_count": 42,
   "id": "cbde8fad",
   "metadata": {
    "execution": {
     "iopub.execute_input": "2025-03-11T14:04:09.729970Z",
     "iopub.status.busy": "2025-03-11T14:04:09.729703Z",
     "iopub.status.idle": "2025-03-11T14:04:09.751591Z",
     "shell.execute_reply": "2025-03-11T14:04:09.750793Z"
    },
    "papermill": {
     "duration": 0.036657,
     "end_time": "2025-03-11T14:04:09.752848",
     "exception": false,
     "start_time": "2025-03-11T14:04:09.716191",
     "status": "completed"
    },
    "tags": []
   },
   "outputs": [],
   "source": [
    "model.head.fc = ageGenderClassifier()"
   ]
  },
  {
   "cell_type": "code",
   "execution_count": 43,
   "id": "a5ea9fad",
   "metadata": {
    "execution": {
     "iopub.execute_input": "2025-03-11T14:04:09.779058Z",
     "iopub.status.busy": "2025-03-11T14:04:09.778837Z",
     "iopub.status.idle": "2025-03-11T14:04:09.783653Z",
     "shell.execute_reply": "2025-03-11T14:04:09.782878Z"
    },
    "papermill": {
     "duration": 0.01931,
     "end_time": "2025-03-11T14:04:09.784903",
     "exception": false,
     "start_time": "2025-03-11T14:04:09.765593",
     "status": "completed"
    },
    "tags": []
   },
   "outputs": [
    {
     "data": {
      "text/plain": [
       "VGG(\n",
       "  (features): Sequential(\n",
       "    (0): Conv2d(3, 64, kernel_size=(3, 3), stride=(1, 1), padding=(1, 1))\n",
       "    (1): ReLU(inplace=True)\n",
       "    (2): Conv2d(64, 64, kernel_size=(3, 3), stride=(1, 1), padding=(1, 1))\n",
       "    (3): ReLU(inplace=True)\n",
       "    (4): MaxPool2d(kernel_size=2, stride=2, padding=0, dilation=1, ceil_mode=False)\n",
       "    (5): Conv2d(64, 128, kernel_size=(3, 3), stride=(1, 1), padding=(1, 1))\n",
       "    (6): ReLU(inplace=True)\n",
       "    (7): Conv2d(128, 128, kernel_size=(3, 3), stride=(1, 1), padding=(1, 1))\n",
       "    (8): ReLU(inplace=True)\n",
       "    (9): MaxPool2d(kernel_size=2, stride=2, padding=0, dilation=1, ceil_mode=False)\n",
       "    (10): Conv2d(128, 256, kernel_size=(3, 3), stride=(1, 1), padding=(1, 1))\n",
       "    (11): ReLU(inplace=True)\n",
       "    (12): Conv2d(256, 256, kernel_size=(3, 3), stride=(1, 1), padding=(1, 1))\n",
       "    (13): ReLU(inplace=True)\n",
       "    (14): Conv2d(256, 256, kernel_size=(3, 3), stride=(1, 1), padding=(1, 1))\n",
       "    (15): ReLU(inplace=True)\n",
       "    (16): MaxPool2d(kernel_size=2, stride=2, padding=0, dilation=1, ceil_mode=False)\n",
       "    (17): Conv2d(256, 512, kernel_size=(3, 3), stride=(1, 1), padding=(1, 1))\n",
       "    (18): ReLU(inplace=True)\n",
       "    (19): Conv2d(512, 512, kernel_size=(3, 3), stride=(1, 1), padding=(1, 1))\n",
       "    (20): ReLU(inplace=True)\n",
       "    (21): Conv2d(512, 512, kernel_size=(3, 3), stride=(1, 1), padding=(1, 1))\n",
       "    (22): ReLU(inplace=True)\n",
       "    (23): MaxPool2d(kernel_size=2, stride=2, padding=0, dilation=1, ceil_mode=False)\n",
       "    (24): Conv2d(512, 512, kernel_size=(3, 3), stride=(1, 1), padding=(1, 1))\n",
       "    (25): ReLU(inplace=True)\n",
       "    (26): Conv2d(512, 512, kernel_size=(3, 3), stride=(1, 1), padding=(1, 1))\n",
       "    (27): ReLU(inplace=True)\n",
       "    (28): Conv2d(512, 512, kernel_size=(3, 3), stride=(1, 1), padding=(1, 1))\n",
       "    (29): ReLU(inplace=True)\n",
       "    (30): MaxPool2d(kernel_size=2, stride=2, padding=0, dilation=1, ceil_mode=False)\n",
       "  )\n",
       "  (pre_logits): ConvMlp(\n",
       "    (fc1): Conv2d(512, 4096, kernel_size=(7, 7), stride=(1, 1))\n",
       "    (act1): ReLU(inplace=True)\n",
       "    (drop): Dropout(p=0.0, inplace=False)\n",
       "    (fc2): Conv2d(4096, 4096, kernel_size=(1, 1), stride=(1, 1))\n",
       "    (act2): ReLU(inplace=True)\n",
       "  )\n",
       "  (head): ClassifierHead(\n",
       "    (global_pool): SelectAdaptivePool2d(pool_type=avg, flatten=Flatten(start_dim=1, end_dim=-1))\n",
       "    (drop): Dropout(p=0.0, inplace=False)\n",
       "    (fc): ageGenderClassifier(\n",
       "      (intermediate): Sequential(\n",
       "        (0): Linear(in_features=4096, out_features=512, bias=True)\n",
       "        (1): ReLU()\n",
       "        (2): Dropout(p=0.4, inplace=False)\n",
       "        (3): Linear(in_features=512, out_features=128, bias=True)\n",
       "        (4): ReLU()\n",
       "        (5): Dropout(p=0.4, inplace=False)\n",
       "        (6): Linear(in_features=128, out_features=64, bias=True)\n",
       "        (7): ReLU()\n",
       "      )\n",
       "      (age_classifier): Sequential(\n",
       "        (0): Linear(in_features=64, out_features=1, bias=True)\n",
       "        (1): Sigmoid()\n",
       "      )\n",
       "      (gender_classifier): Sequential(\n",
       "        (0): Linear(in_features=64, out_features=1, bias=True)\n",
       "      )\n",
       "    )\n",
       "    (flatten): Identity()\n",
       "  )\n",
       ")"
      ]
     },
     "execution_count": 43,
     "metadata": {},
     "output_type": "execute_result"
    }
   ],
   "source": [
    "model"
   ]
  },
  {
   "cell_type": "code",
   "execution_count": 44,
   "id": "ed772267",
   "metadata": {
    "execution": {
     "iopub.execute_input": "2025-03-11T14:04:09.811213Z",
     "iopub.status.busy": "2025-03-11T14:04:09.811004Z",
     "iopub.status.idle": "2025-03-11T14:04:09.817166Z",
     "shell.execute_reply": "2025-03-11T14:04:09.816565Z"
    },
    "papermill": {
     "duration": 0.020596,
     "end_time": "2025-03-11T14:04:09.818318",
     "exception": false,
     "start_time": "2025-03-11T14:04:09.797722",
     "status": "completed"
    },
    "tags": []
   },
   "outputs": [],
   "source": [
    "model = model.to(device)"
   ]
  },
  {
   "cell_type": "code",
   "execution_count": 45,
   "id": "72fdebb6",
   "metadata": {
    "execution": {
     "iopub.execute_input": "2025-03-11T14:04:09.844872Z",
     "iopub.status.busy": "2025-03-11T14:04:09.844654Z",
     "iopub.status.idle": "2025-03-11T14:04:09.918536Z",
     "shell.execute_reply": "2025-03-11T14:04:09.917708Z"
    },
    "papermill": {
     "duration": 0.088553,
     "end_time": "2025-03-11T14:04:09.919756",
     "exception": false,
     "start_time": "2025-03-11T14:04:09.831203",
     "status": "completed"
    },
    "tags": []
   },
   "outputs": [
    {
     "data": {
      "text/plain": [
       "(torch.Size([2, 1]), torch.Size([2, 1]))"
      ]
     },
     "execution_count": 45,
     "metadata": {},
     "output_type": "execute_result"
    }
   ],
   "source": [
    "age_pred, gender_pred = model(img)\n",
    "age_pred.shape, gender_pred.shape"
   ]
  },
  {
   "cell_type": "code",
   "execution_count": 46,
   "id": "e68a4c90",
   "metadata": {
    "execution": {
     "iopub.execute_input": "2025-03-11T14:04:09.946928Z",
     "iopub.status.busy": "2025-03-11T14:04:09.946672Z",
     "iopub.status.idle": "2025-03-11T14:04:09.949918Z",
     "shell.execute_reply": "2025-03-11T14:04:09.949118Z"
    },
    "papermill": {
     "duration": 0.018287,
     "end_time": "2025-03-11T14:04:09.951155",
     "exception": false,
     "start_time": "2025-03-11T14:04:09.932868",
     "status": "completed"
    },
    "tags": []
   },
   "outputs": [],
   "source": [
    "import numpy as np"
   ]
  },
  {
   "cell_type": "code",
   "execution_count": 47,
   "id": "872b9c9e",
   "metadata": {
    "execution": {
     "iopub.execute_input": "2025-03-11T14:04:09.977746Z",
     "iopub.status.busy": "2025-03-11T14:04:09.977518Z",
     "iopub.status.idle": "2025-03-11T14:04:10.220591Z",
     "shell.execute_reply": "2025-03-11T14:04:10.219726Z"
    },
    "papermill": {
     "duration": 0.257858,
     "end_time": "2025-03-11T14:04:10.221931",
     "exception": false,
     "start_time": "2025-03-11T14:04:09.964073",
     "status": "completed"
    },
    "tags": []
   },
   "outputs": [
    {
     "data": {
      "text/plain": [
       "tensor([[0.4100],\n",
       "        [0.2100]], device='cuda:0')"
      ]
     },
     "execution_count": 47,
     "metadata": {},
     "output_type": "execute_result"
    }
   ],
   "source": [
    "age"
   ]
  },
  {
   "cell_type": "code",
   "execution_count": 48,
   "id": "7a4944a8",
   "metadata": {
    "execution": {
     "iopub.execute_input": "2025-03-11T14:04:10.267760Z",
     "iopub.status.busy": "2025-03-11T14:04:10.267380Z",
     "iopub.status.idle": "2025-03-11T14:04:10.274353Z",
     "shell.execute_reply": "2025-03-11T14:04:10.273404Z"
    },
    "papermill": {
     "duration": 0.033463,
     "end_time": "2025-03-11T14:04:10.276094",
     "exception": false,
     "start_time": "2025-03-11T14:04:10.242631",
     "status": "completed"
    },
    "tags": []
   },
   "outputs": [
    {
     "data": {
      "text/plain": [
       "tensor([[0.5041],\n",
       "        [0.4875]], device='cuda:0', grad_fn=<SigmoidBackward0>)"
      ]
     },
     "execution_count": 48,
     "metadata": {},
     "output_type": "execute_result"
    }
   ],
   "source": [
    "age_pred"
   ]
  },
  {
   "cell_type": "code",
   "execution_count": 49,
   "id": "13f8d034",
   "metadata": {
    "execution": {
     "iopub.execute_input": "2025-03-11T14:04:10.313969Z",
     "iopub.status.busy": "2025-03-11T14:04:10.313697Z",
     "iopub.status.idle": "2025-03-11T14:04:10.319958Z",
     "shell.execute_reply": "2025-03-11T14:04:10.319128Z"
    },
    "papermill": {
     "duration": 0.023471,
     "end_time": "2025-03-11T14:04:10.321756",
     "exception": false,
     "start_time": "2025-03-11T14:04:10.298285",
     "status": "completed"
    },
    "tags": []
   },
   "outputs": [
    {
     "data": {
      "text/plain": [
       "tensor([[41],\n",
       "        [21]], device='cuda:0', dtype=torch.int32)"
      ]
     },
     "execution_count": 49,
     "metadata": {},
     "output_type": "execute_result"
    }
   ],
   "source": [
    "(age*100).type(torch.int)"
   ]
  },
  {
   "cell_type": "code",
   "execution_count": 50,
   "id": "fe2fb83f",
   "metadata": {
    "execution": {
     "iopub.execute_input": "2025-03-11T14:04:10.369282Z",
     "iopub.status.busy": "2025-03-11T14:04:10.369006Z",
     "iopub.status.idle": "2025-03-11T14:04:10.375672Z",
     "shell.execute_reply": "2025-03-11T14:04:10.375004Z"
    },
    "papermill": {
     "duration": 0.022488,
     "end_time": "2025-03-11T14:04:10.376891",
     "exception": false,
     "start_time": "2025-03-11T14:04:10.354403",
     "status": "completed"
    },
    "tags": []
   },
   "outputs": [
    {
     "data": {
      "text/plain": [
       "tensor([[50],\n",
       "        [48]], device='cuda:0', dtype=torch.int32)"
      ]
     },
     "execution_count": 50,
     "metadata": {},
     "output_type": "execute_result"
    }
   ],
   "source": [
    "(age_pred*100).type(torch.int)"
   ]
  },
  {
   "cell_type": "code",
   "execution_count": 51,
   "id": "1e211741",
   "metadata": {
    "execution": {
     "iopub.execute_input": "2025-03-11T14:04:10.404010Z",
     "iopub.status.busy": "2025-03-11T14:04:10.403811Z",
     "iopub.status.idle": "2025-03-11T14:04:10.409994Z",
     "shell.execute_reply": "2025-03-11T14:04:10.409366Z"
    },
    "papermill": {
     "duration": 0.021081,
     "end_time": "2025-03-11T14:04:10.411188",
     "exception": false,
     "start_time": "2025-03-11T14:04:10.390107",
     "status": "completed"
    },
    "tags": []
   },
   "outputs": [
    {
     "data": {
      "text/plain": [
       "tensor(18., device='cuda:0')"
      ]
     },
     "execution_count": 51,
     "metadata": {},
     "output_type": "execute_result"
    }
   ],
   "source": [
    "torch.abs((age*100).type(torch.int) - (age_pred*100).type(torch.int)).float().mean()"
   ]
  },
  {
   "cell_type": "code",
   "execution_count": 52,
   "id": "03614abe",
   "metadata": {
    "execution": {
     "iopub.execute_input": "2025-03-11T14:04:10.438413Z",
     "iopub.status.busy": "2025-03-11T14:04:10.438150Z",
     "iopub.status.idle": "2025-03-11T14:04:10.442928Z",
     "shell.execute_reply": "2025-03-11T14:04:10.442308Z"
    },
    "papermill": {
     "duration": 0.019651,
     "end_time": "2025-03-11T14:04:10.444081",
     "exception": false,
     "start_time": "2025-03-11T14:04:10.424430",
     "status": "completed"
    },
    "tags": []
   },
   "outputs": [
    {
     "data": {
      "text/plain": [
       "tensor([[1.],\n",
       "        [1.]], device='cuda:0')"
      ]
     },
     "execution_count": 52,
     "metadata": {},
     "output_type": "execute_result"
    }
   ],
   "source": [
    "gender"
   ]
  },
  {
   "cell_type": "code",
   "execution_count": 53,
   "id": "030395b7",
   "metadata": {
    "execution": {
     "iopub.execute_input": "2025-03-11T14:04:10.471547Z",
     "iopub.status.busy": "2025-03-11T14:04:10.471283Z",
     "iopub.status.idle": "2025-03-11T14:04:10.476136Z",
     "shell.execute_reply": "2025-03-11T14:04:10.475388Z"
    },
    "papermill": {
     "duration": 0.019832,
     "end_time": "2025-03-11T14:04:10.477293",
     "exception": false,
     "start_time": "2025-03-11T14:04:10.457461",
     "status": "completed"
    },
    "tags": []
   },
   "outputs": [
    {
     "data": {
      "text/plain": [
       "tensor([[-0.1188],\n",
       "        [-0.1848]], device='cuda:0', grad_fn=<AddmmBackward0>)"
      ]
     },
     "execution_count": 53,
     "metadata": {},
     "output_type": "execute_result"
    }
   ],
   "source": [
    "gender_pred"
   ]
  },
  {
   "cell_type": "code",
   "execution_count": 54,
   "id": "40a5d24e",
   "metadata": {
    "execution": {
     "iopub.execute_input": "2025-03-11T14:04:10.504934Z",
     "iopub.status.busy": "2025-03-11T14:04:10.504721Z",
     "iopub.status.idle": "2025-03-11T14:04:10.507531Z",
     "shell.execute_reply": "2025-03-11T14:04:10.506907Z"
    },
    "papermill": {
     "duration": 0.01789,
     "end_time": "2025-03-11T14:04:10.508753",
     "exception": false,
     "start_time": "2025-03-11T14:04:10.490863",
     "status": "completed"
    },
    "tags": []
   },
   "outputs": [],
   "source": [
    "from torch.nn.functional import sigmoid"
   ]
  },
  {
   "cell_type": "code",
   "execution_count": 55,
   "id": "4607e7c3",
   "metadata": {
    "execution": {
     "iopub.execute_input": "2025-03-11T14:04:10.535948Z",
     "iopub.status.busy": "2025-03-11T14:04:10.535747Z",
     "iopub.status.idle": "2025-03-11T14:04:10.540422Z",
     "shell.execute_reply": "2025-03-11T14:04:10.539771Z"
    },
    "papermill": {
     "duration": 0.019585,
     "end_time": "2025-03-11T14:04:10.541631",
     "exception": false,
     "start_time": "2025-03-11T14:04:10.522046",
     "status": "completed"
    },
    "tags": []
   },
   "outputs": [
    {
     "data": {
      "text/plain": [
       "tensor([[0.4703],\n",
       "        [0.4539]], device='cuda:0', grad_fn=<SigmoidBackward0>)"
      ]
     },
     "execution_count": 55,
     "metadata": {},
     "output_type": "execute_result"
    }
   ],
   "source": [
    "sigmoid(gender_pred)"
   ]
  },
  {
   "cell_type": "code",
   "execution_count": 56,
   "id": "9d7933f3",
   "metadata": {
    "execution": {
     "iopub.execute_input": "2025-03-11T14:04:10.570330Z",
     "iopub.status.busy": "2025-03-11T14:04:10.570130Z",
     "iopub.status.idle": "2025-03-11T14:04:10.574981Z",
     "shell.execute_reply": "2025-03-11T14:04:10.574376Z"
    },
    "papermill": {
     "duration": 0.019987,
     "end_time": "2025-03-11T14:04:10.576089",
     "exception": false,
     "start_time": "2025-03-11T14:04:10.556102",
     "status": "completed"
    },
    "tags": []
   },
   "outputs": [
    {
     "data": {
      "text/plain": [
       "tensor([[0.],\n",
       "        [0.]], device='cuda:0')"
      ]
     },
     "execution_count": 56,
     "metadata": {},
     "output_type": "execute_result"
    }
   ],
   "source": [
    "(sigmoid(gender_pred)>0.5).type(torch.float)"
   ]
  },
  {
   "cell_type": "code",
   "execution_count": 57,
   "id": "647da458",
   "metadata": {
    "execution": {
     "iopub.execute_input": "2025-03-11T14:04:10.603860Z",
     "iopub.status.busy": "2025-03-11T14:04:10.603661Z",
     "iopub.status.idle": "2025-03-11T14:04:10.608261Z",
     "shell.execute_reply": "2025-03-11T14:04:10.607673Z"
    },
    "papermill": {
     "duration": 0.019982,
     "end_time": "2025-03-11T14:04:10.609540",
     "exception": false,
     "start_time": "2025-03-11T14:04:10.589558",
     "status": "completed"
    },
    "tags": []
   },
   "outputs": [
    {
     "data": {
      "text/plain": [
       "tensor(0., device='cuda:0')"
      ]
     },
     "execution_count": 57,
     "metadata": {},
     "output_type": "execute_result"
    }
   ],
   "source": [
    "(gender == (sigmoid(gender_pred)>0.5).type(torch.float)).float().mean()"
   ]
  },
  {
   "cell_type": "code",
   "execution_count": 58,
   "id": "71f25be7",
   "metadata": {
    "execution": {
     "iopub.execute_input": "2025-03-11T14:04:10.637818Z",
     "iopub.status.busy": "2025-03-11T14:04:10.637608Z",
     "iopub.status.idle": "2025-03-11T14:04:10.640562Z",
     "shell.execute_reply": "2025-03-11T14:04:10.639929Z"
    },
    "papermill": {
     "duration": 0.01865,
     "end_time": "2025-03-11T14:04:10.641787",
     "exception": false,
     "start_time": "2025-03-11T14:04:10.623137",
     "status": "completed"
    },
    "tags": []
   },
   "outputs": [],
   "source": [
    "age_criterion = nn.L1Loss()\n",
    "gender_criterion = nn.BCEWithLogitsLoss()"
   ]
  },
  {
   "cell_type": "code",
   "execution_count": 59,
   "id": "b96364e5",
   "metadata": {
    "execution": {
     "iopub.execute_input": "2025-03-11T14:04:10.669662Z",
     "iopub.status.busy": "2025-03-11T14:04:10.669462Z",
     "iopub.status.idle": "2025-03-11T14:04:10.675833Z",
     "shell.execute_reply": "2025-03-11T14:04:10.675230Z"
    },
    "papermill": {
     "duration": 0.021616,
     "end_time": "2025-03-11T14:04:10.676922",
     "exception": false,
     "start_time": "2025-03-11T14:04:10.655306",
     "status": "completed"
    },
    "tags": []
   },
   "outputs": [
    {
     "data": {
      "text/plain": [
       "tensor(0.1858, device='cuda:0', grad_fn=<MeanBackward0>)"
      ]
     },
     "execution_count": 59,
     "metadata": {},
     "output_type": "execute_result"
    }
   ],
   "source": [
    "age_criterion(age_pred, age)"
   ]
  },
  {
   "cell_type": "code",
   "execution_count": 60,
   "id": "47aa9f8e",
   "metadata": {
    "execution": {
     "iopub.execute_input": "2025-03-11T14:04:10.704912Z",
     "iopub.status.busy": "2025-03-11T14:04:10.704712Z",
     "iopub.status.idle": "2025-03-11T14:04:10.736519Z",
     "shell.execute_reply": "2025-03-11T14:04:10.735833Z"
    },
    "papermill": {
     "duration": 0.04711,
     "end_time": "2025-03-11T14:04:10.737705",
     "exception": false,
     "start_time": "2025-03-11T14:04:10.690595",
     "status": "completed"
    },
    "tags": []
   },
   "outputs": [
    {
     "data": {
      "text/plain": [
       "tensor(0.7720, device='cuda:0',\n",
       "       grad_fn=<BinaryCrossEntropyWithLogitsBackward0>)"
      ]
     },
     "execution_count": 60,
     "metadata": {},
     "output_type": "execute_result"
    }
   ],
   "source": [
    "gender_criterion(gender_pred, gender)"
   ]
  },
  {
   "cell_type": "code",
   "execution_count": 61,
   "id": "d7707ead",
   "metadata": {
    "execution": {
     "iopub.execute_input": "2025-03-11T14:04:10.766101Z",
     "iopub.status.busy": "2025-03-11T14:04:10.765879Z",
     "iopub.status.idle": "2025-03-11T14:04:10.768973Z",
     "shell.execute_reply": "2025-03-11T14:04:10.768380Z"
    },
    "papermill": {
     "duration": 0.018466,
     "end_time": "2025-03-11T14:04:10.770124",
     "exception": false,
     "start_time": "2025-03-11T14:04:10.751658",
     "status": "completed"
    },
    "tags": []
   },
   "outputs": [],
   "source": [
    "from tqdm import tqdm\n",
    "import pickle\n",
    "from torch.optim import Adam"
   ]
  },
  {
   "cell_type": "code",
   "execution_count": 62,
   "id": "895e91b9",
   "metadata": {
    "execution": {
     "iopub.execute_input": "2025-03-11T14:04:10.798200Z",
     "iopub.status.busy": "2025-03-11T14:04:10.798000Z",
     "iopub.status.idle": "2025-03-11T14:04:13.867756Z",
     "shell.execute_reply": "2025-03-11T14:04:13.867029Z"
    },
    "papermill": {
     "duration": 3.085478,
     "end_time": "2025-03-11T14:04:13.869250",
     "exception": false,
     "start_time": "2025-03-11T14:04:10.783772",
     "status": "completed"
    },
    "tags": []
   },
   "outputs": [],
   "source": [
    "device = torch.device(\"cuda\" if torch.cuda.is_available() else \"cpu\")\n",
    "\n",
    "model = timm.create_model(\"vgg16\", pretrained=True)\n",
    "data_cfg = timm.data.resolve_data_config(model.pretrained_cfg)\n",
    "transform = timm.data.create_transform(**data_cfg)\n",
    "for param in model.parameters(): \n",
    "    param.requires_grad = False\n",
    "model.head.fc = ageGenderClassifier()\n",
    "model = model.to(device)"
   ]
  },
  {
   "cell_type": "code",
   "execution_count": 63,
   "id": "cc612053",
   "metadata": {
    "execution": {
     "iopub.execute_input": "2025-03-11T14:04:13.904832Z",
     "iopub.status.busy": "2025-03-11T14:04:13.904567Z",
     "iopub.status.idle": "2025-03-11T14:04:13.924291Z",
     "shell.execute_reply": "2025-03-11T14:04:13.923703Z"
    },
    "papermill": {
     "duration": 0.039835,
     "end_time": "2025-03-11T14:04:13.925729",
     "exception": false,
     "start_time": "2025-03-11T14:04:13.885894",
     "status": "completed"
    },
    "tags": []
   },
   "outputs": [],
   "source": [
    "from torchinfo import summary"
   ]
  },
  {
   "cell_type": "code",
   "execution_count": 64,
   "id": "39442660",
   "metadata": {
    "execution": {
     "iopub.execute_input": "2025-03-11T14:04:13.986122Z",
     "iopub.status.busy": "2025-03-11T14:04:13.985841Z",
     "iopub.status.idle": "2025-03-11T14:04:14.005368Z",
     "shell.execute_reply": "2025-03-11T14:04:14.004596Z"
    },
    "papermill": {
     "duration": 0.06556,
     "end_time": "2025-03-11T14:04:14.006785",
     "exception": false,
     "start_time": "2025-03-11T14:04:13.941225",
     "status": "completed"
    },
    "tags": []
   },
   "outputs": [
    {
     "data": {
      "text/plain": [
       "==========================================================================================\n",
       "Layer (type:depth-idx)                   Output Shape              Param #\n",
       "==========================================================================================\n",
       "VGG                                      [2, 1]                    --\n",
       "├─Sequential: 1-1                        [2, 512, 7, 7]            --\n",
       "│    └─Conv2d: 2-1                       [2, 64, 224, 224]         (1,792)\n",
       "│    └─ReLU: 2-2                         [2, 64, 224, 224]         --\n",
       "│    └─Conv2d: 2-3                       [2, 64, 224, 224]         (36,928)\n",
       "│    └─ReLU: 2-4                         [2, 64, 224, 224]         --\n",
       "│    └─MaxPool2d: 2-5                    [2, 64, 112, 112]         --\n",
       "│    └─Conv2d: 2-6                       [2, 128, 112, 112]        (73,856)\n",
       "│    └─ReLU: 2-7                         [2, 128, 112, 112]        --\n",
       "│    └─Conv2d: 2-8                       [2, 128, 112, 112]        (147,584)\n",
       "│    └─ReLU: 2-9                         [2, 128, 112, 112]        --\n",
       "│    └─MaxPool2d: 2-10                   [2, 128, 56, 56]          --\n",
       "│    └─Conv2d: 2-11                      [2, 256, 56, 56]          (295,168)\n",
       "│    └─ReLU: 2-12                        [2, 256, 56, 56]          --\n",
       "│    └─Conv2d: 2-13                      [2, 256, 56, 56]          (590,080)\n",
       "│    └─ReLU: 2-14                        [2, 256, 56, 56]          --\n",
       "│    └─Conv2d: 2-15                      [2, 256, 56, 56]          (590,080)\n",
       "│    └─ReLU: 2-16                        [2, 256, 56, 56]          --\n",
       "│    └─MaxPool2d: 2-17                   [2, 256, 28, 28]          --\n",
       "│    └─Conv2d: 2-18                      [2, 512, 28, 28]          (1,180,160)\n",
       "│    └─ReLU: 2-19                        [2, 512, 28, 28]          --\n",
       "│    └─Conv2d: 2-20                      [2, 512, 28, 28]          (2,359,808)\n",
       "│    └─ReLU: 2-21                        [2, 512, 28, 28]          --\n",
       "│    └─Conv2d: 2-22                      [2, 512, 28, 28]          (2,359,808)\n",
       "│    └─ReLU: 2-23                        [2, 512, 28, 28]          --\n",
       "│    └─MaxPool2d: 2-24                   [2, 512, 14, 14]          --\n",
       "│    └─Conv2d: 2-25                      [2, 512, 14, 14]          (2,359,808)\n",
       "│    └─ReLU: 2-26                        [2, 512, 14, 14]          --\n",
       "│    └─Conv2d: 2-27                      [2, 512, 14, 14]          (2,359,808)\n",
       "│    └─ReLU: 2-28                        [2, 512, 14, 14]          --\n",
       "│    └─Conv2d: 2-29                      [2, 512, 14, 14]          (2,359,808)\n",
       "│    └─ReLU: 2-30                        [2, 512, 14, 14]          --\n",
       "│    └─MaxPool2d: 2-31                   [2, 512, 7, 7]            --\n",
       "├─ConvMlp: 1-2                           [2, 4096, 1, 1]           --\n",
       "│    └─Conv2d: 2-32                      [2, 4096, 1, 1]           (102,764,544)\n",
       "│    └─ReLU: 2-33                        [2, 4096, 1, 1]           --\n",
       "│    └─Dropout: 2-34                     [2, 4096, 1, 1]           --\n",
       "│    └─Conv2d: 2-35                      [2, 4096, 1, 1]           (16,781,312)\n",
       "│    └─ReLU: 2-36                        [2, 4096, 1, 1]           --\n",
       "├─ClassifierHead: 1-3                    [2, 1]                    --\n",
       "│    └─SelectAdaptivePool2d: 2-37        [2, 4096]                 --\n",
       "│    │    └─AdaptiveAvgPool2d: 3-1       [2, 4096, 1, 1]           --\n",
       "│    │    └─Flatten: 3-2                 [2, 4096]                 --\n",
       "│    └─Dropout: 2-38                     [2, 4096]                 --\n",
       "│    └─ageGenderClassifier: 2-39         [2, 1]                    --\n",
       "│    │    └─Sequential: 3-3              [2, 64]                   2,171,584\n",
       "│    │    └─Sequential: 3-4              [2, 1]                    65\n",
       "│    │    └─Sequential: 3-5              [2, 1]                    65\n",
       "│    └─Identity: 2-40                    [2, 1]                    --\n",
       "==========================================================================================\n",
       "Total params: 136,432,258\n",
       "Trainable params: 2,171,714\n",
       "Non-trainable params: 134,260,544\n",
       "Total mult-adds (G): 30.96\n",
       "==========================================================================================\n",
       "Input size (MB): 1.20\n",
       "Forward/backward pass size (MB): 216.90\n",
       "Params size (MB): 545.73\n",
       "Estimated Total Size (MB): 763.84\n",
       "=========================================================================================="
      ]
     },
     "execution_count": 64,
     "metadata": {},
     "output_type": "execute_result"
    }
   ],
   "source": [
    "summary(model, input_data=img)"
   ]
  },
  {
   "cell_type": "code",
   "execution_count": 65,
   "id": "527e0f9c",
   "metadata": {
    "execution": {
     "iopub.execute_input": "2025-03-11T14:04:14.037104Z",
     "iopub.status.busy": "2025-03-11T14:04:14.036840Z",
     "iopub.status.idle": "2025-03-11T14:04:14.040573Z",
     "shell.execute_reply": "2025-03-11T14:04:14.039763Z"
    },
    "papermill": {
     "duration": 0.019811,
     "end_time": "2025-03-11T14:04:14.041815",
     "exception": false,
     "start_time": "2025-03-11T14:04:14.022004",
     "status": "completed"
    },
    "tags": []
   },
   "outputs": [],
   "source": [
    "optimizer = Adam(model.parameters(), lr=1e-4)"
   ]
  },
  {
   "cell_type": "code",
   "execution_count": 66,
   "id": "8f2bf40d",
   "metadata": {
    "execution": {
     "iopub.execute_input": "2025-03-11T14:04:14.072703Z",
     "iopub.status.busy": "2025-03-11T14:04:14.072492Z",
     "iopub.status.idle": "2025-03-11T14:04:14.076544Z",
     "shell.execute_reply": "2025-03-11T14:04:14.075890Z"
    },
    "papermill": {
     "duration": 0.0199,
     "end_time": "2025-03-11T14:04:14.077686",
     "exception": false,
     "start_time": "2025-03-11T14:04:14.057786",
     "status": "completed"
    },
    "tags": []
   },
   "outputs": [],
   "source": [
    "train_dataset = GenderAgeClass(train_df, transform=transform)\n",
    "val_dataset = GenderAgeClass(val_df, transform=transform)\n",
    "train_loader = DataLoader(train_dataset, batch_size=16, shuffle=True, drop_last=True)\n",
    "val_loader = DataLoader(val_dataset, batch_size=16, shuffle=False, drop_last=False)\n",
    "\n",
    "age_criterion = nn.L1Loss()\n",
    "gender_criterion = nn.BCEWithLogitsLoss()"
   ]
  },
  {
   "cell_type": "code",
   "execution_count": 67,
   "id": "6029fd10",
   "metadata": {
    "execution": {
     "iopub.execute_input": "2025-03-11T14:04:14.106784Z",
     "iopub.status.busy": "2025-03-11T14:04:14.106575Z",
     "iopub.status.idle": "2025-03-11T14:09:08.404613Z",
     "shell.execute_reply": "2025-03-11T14:09:08.403721Z"
    },
    "papermill": {
     "duration": 294.313976,
     "end_time": "2025-03-11T14:09:08.405827",
     "exception": false,
     "start_time": "2025-03-11T14:04:14.091851",
     "status": "completed"
    },
    "tags": []
   },
   "outputs": [
    {
     "name": "stdout",
     "output_type": "stream",
     "text": [
      "Epoch 0\n"
     ]
    },
    {
     "name": "stderr",
     "output_type": "stream",
     "text": [
      "100%|██████████| 427/427 [01:09<00:00,  6.18it/s]\n",
      "100%|██████████| 92/92 [00:18<00:00,  5.02it/s]\n"
     ]
    },
    {
     "name": "stdout",
     "output_type": "stream",
     "text": [
      "1000.0 -> 0.5730408430099487\n",
      "Epoch 1\n"
     ]
    },
    {
     "name": "stderr",
     "output_type": "stream",
     "text": [
      "100%|██████████| 427/427 [00:41<00:00, 10.28it/s]\n",
      "100%|██████████| 92/92 [00:08<00:00, 10.31it/s]\n"
     ]
    },
    {
     "name": "stdout",
     "output_type": "stream",
     "text": [
      "0.5730408430099487 -> 0.5480096032438071\n",
      "Epoch 2\n"
     ]
    },
    {
     "name": "stderr",
     "output_type": "stream",
     "text": [
      "100%|██████████| 427/427 [00:41<00:00, 10.22it/s]\n",
      "100%|██████████| 92/92 [00:08<00:00, 10.29it/s]\n"
     ]
    },
    {
     "name": "stdout",
     "output_type": "stream",
     "text": [
      "0.5480096032438071 -> 0.5453250223527784\n",
      "Epoch 3\n"
     ]
    },
    {
     "name": "stderr",
     "output_type": "stream",
     "text": [
      "100%|██████████| 427/427 [00:42<00:00, 10.13it/s]\n",
      "100%|██████████| 92/92 [00:08<00:00, 10.50it/s]\n"
     ]
    },
    {
     "name": "stdout",
     "output_type": "stream",
     "text": [
      "0.5453250223527784 -> 0.5247448802642201\n",
      "Epoch 4\n"
     ]
    },
    {
     "name": "stderr",
     "output_type": "stream",
     "text": [
      "100%|██████████| 427/427 [00:40<00:00, 10.59it/s]\n",
      "100%|██████████| 92/92 [00:08<00:00, 10.65it/s]\n"
     ]
    }
   ],
   "source": [
    "train_losses = []\n",
    "val_losses = []\n",
    "val_age_maes = []\n",
    "val_gender_accuracies = []\n",
    "\n",
    "loss_val_best = 1e3\n",
    "\n",
    "n_epochs = 5\n",
    "for epoch in range(n_epochs):\n",
    "    print(\"Epoch\", epoch)\n",
    "    model.train()\n",
    "    loss_train = 0\n",
    "    for batch in tqdm(train_loader):\n",
    "        optimizer.zero_grad()\n",
    "        img, age, gender = batch\n",
    "        img, age, gender = img.to(device), age.to(device), gender.to(device)\n",
    "        age_pred, gender_pred = model(img)\n",
    "        age_loss = age_criterion(age_pred, age)\n",
    "        gender_loss = gender_criterion(gender_pred, gender)\n",
    "        total_loss = gender_loss + age_loss\n",
    "        total_loss.backward()\n",
    "        optimizer.step()\n",
    "        \n",
    "        loss_train += total_loss.item()\n",
    "    loss_train /= len(train_loader)\n",
    "    train_losses.append(loss_train)\n",
    "\n",
    "    model.eval()\n",
    "    loss_val = 0\n",
    "    age_mae_val = 0\n",
    "    gender_accuracy_val = 0\n",
    "    for batch in tqdm(val_loader):\n",
    "        img, age, gender = batch\n",
    "        img, age, gender = img.to(device), age.to(device), gender.to(device)\n",
    "        with torch.inference_mode():\n",
    "            age_pred, gender_pred = model(img)\n",
    "        age_loss = age_criterion(age_pred, age)\n",
    "        gender_loss = gender_criterion(gender_pred, gender)\n",
    "        total_loss = gender_loss + age_loss\n",
    "        loss_val += total_loss.item()\n",
    "        \n",
    "        true_age = (age*100).type(torch.int)\n",
    "        pred_age = (age_pred*100).type(torch.int)\n",
    "        age_mae_val += torch.abs(true_age-pred_age).float().mean().item()\n",
    "\n",
    "        pred_gender = (sigmoid(gender_pred)>0.5).type(torch.float)\n",
    "        gender_accuracy_val += (gender == pred_gender).float().mean().item()\n",
    "    loss_val /= len(val_loader)    \n",
    "    age_mae_val /= len(val_loader)\n",
    "    gender_accuracy_val /= len(val_loader)\n",
    "    val_losses.append(loss_val)\n",
    "    val_age_maes.append(age_mae_val)\n",
    "    val_gender_accuracies.append(gender_accuracy_val)\n",
    "\n",
    "    if loss_val < loss_val_best:\n",
    "        print(f'{loss_val_best} -> {loss_val}')\n",
    "        loss_val_best = loss_val\n",
    "        torch.save(model.state_dict(), 'best_model.pt')\n",
    "\n",
    "    results = {\n",
    "        'train_losses':train_losses,\n",
    "        'val_losses':val_losses,\n",
    "        'val_age_maes':val_age_maes,\n",
    "        'val_gender_accuracies':val_gender_accuracies,\n",
    "    }\n",
    "    with open('results.pkl', 'wb') as f:\n",
    "        pickle.dump(results, f)"
   ]
  },
  {
   "cell_type": "code",
   "execution_count": 68,
   "id": "fc1ef72b",
   "metadata": {
    "execution": {
     "iopub.execute_input": "2025-03-11T14:09:08.575838Z",
     "iopub.status.busy": "2025-03-11T14:09:08.575553Z",
     "iopub.status.idle": "2025-03-11T14:09:08.579240Z",
     "shell.execute_reply": "2025-03-11T14:09:08.578578Z"
    },
    "papermill": {
     "duration": 0.08829,
     "end_time": "2025-03-11T14:09:08.580480",
     "exception": false,
     "start_time": "2025-03-11T14:09:08.492190",
     "status": "completed"
    },
    "tags": []
   },
   "outputs": [],
   "source": [
    "with open('results.pkl', 'rb') as f:\n",
    "    res = pickle.load(f)"
   ]
  },
  {
   "cell_type": "code",
   "execution_count": 69,
   "id": "4ddc9c7b",
   "metadata": {
    "execution": {
     "iopub.execute_input": "2025-03-11T14:09:08.747472Z",
     "iopub.status.busy": "2025-03-11T14:09:08.747147Z",
     "iopub.status.idle": "2025-03-11T14:09:08.750672Z",
     "shell.execute_reply": "2025-03-11T14:09:08.749809Z"
    },
    "papermill": {
     "duration": 0.088185,
     "end_time": "2025-03-11T14:09:08.751903",
     "exception": false,
     "start_time": "2025-03-11T14:09:08.663718",
     "status": "completed"
    },
    "tags": []
   },
   "outputs": [],
   "source": [
    "import matplotlib.pyplot as plt"
   ]
  },
  {
   "cell_type": "code",
   "execution_count": 70,
   "id": "ded18f60",
   "metadata": {
    "execution": {
     "iopub.execute_input": "2025-03-11T14:09:08.923787Z",
     "iopub.status.busy": "2025-03-11T14:09:08.923524Z",
     "iopub.status.idle": "2025-03-11T14:09:09.147816Z",
     "shell.execute_reply": "2025-03-11T14:09:09.146930Z"
    },
    "papermill": {
     "duration": 0.313847,
     "end_time": "2025-03-11T14:09:09.149095",
     "exception": false,
     "start_time": "2025-03-11T14:09:08.835248",
     "status": "completed"
    },
    "tags": []
   },
   "outputs": [
    {
     "data": {
      "image/png": "[encoded data removed]",
      "text/plain": [
       "<Figure size 640x480 with 1 Axes>"
      ]
     },
     "metadata": {},
     "output_type": "display_data"
    }
   ],
   "source": [
    "plt.plot(res['train_losses'], label='train')\n",
    "plt.plot(res['val_losses'], label='val')\n",
    "plt.ylabel('loss')\n",
    "plt.legend();"
   ]
  },
  {
   "cell_type": "code",
   "execution_count": 71,
   "id": "791033cf",
   "metadata": {
    "execution": {
     "iopub.execute_input": "2025-03-11T14:09:09.319392Z",
     "iopub.status.busy": "2025-03-11T14:09:09.319018Z",
     "iopub.status.idle": "2025-03-11T14:09:09.478223Z",
     "shell.execute_reply": "2025-03-11T14:09:09.477299Z"
    },
    "papermill": {
     "duration": 0.245588,
     "end_time": "2025-03-11T14:09:09.479590",
     "exception": false,
     "start_time": "2025-03-11T14:09:09.234002",
     "status": "completed"
    },
    "tags": []
   },
   "outputs": [
    {
     "data": {
      "image/png": "[encoded data removed]",
      "text/plain": [
       "<Figure size 640x480 with 1 Axes>"
      ]
     },
     "metadata": {},
     "output_type": "display_data"
    }
   ],
   "source": [
    "plt.plot(res['val_age_maes'])\n",
    "plt.ylabel('MAE (age)');"
   ]
  },
  {
   "cell_type": "code",
   "execution_count": 72,
   "id": "e7d9dbc5",
   "metadata": {
    "execution": {
     "iopub.execute_input": "2025-03-11T14:09:09.693834Z",
     "iopub.status.busy": "2025-03-11T14:09:09.693517Z",
     "iopub.status.idle": "2025-03-11T14:09:09.863990Z",
     "shell.execute_reply": "2025-03-11T14:09:09.862943Z"
    },
    "papermill": {
     "duration": 0.299418,
     "end_time": "2025-03-11T14:09:09.865272",
     "exception": false,
     "start_time": "2025-03-11T14:09:09.565854",
     "status": "completed"
    },
    "tags": []
   },
   "outputs": [
    {
     "data": {
      "image/png": "[encoded data removed]",
      "text/plain": [
       "<Figure size 640x480 with 1 Axes>"
      ]
     },
     "metadata": {},
     "output_type": "display_data"
    }
   ],
   "source": [
    "plt.plot(res['val_gender_accuracies'])\n",
    "plt.ylabel('Gender accuracy');"
   ]
  },
  {
   "cell_type": "code",
   "execution_count": 73,
   "id": "7778a806",
   "metadata": {
    "execution": {
     "iopub.execute_input": "2025-03-11T14:09:10.038427Z",
     "iopub.status.busy": "2025-03-11T14:09:10.038106Z",
     "iopub.status.idle": "2025-03-11T14:09:10.540060Z",
     "shell.execute_reply": "2025-03-11T14:09:10.539329Z"
    },
    "papermill": {
     "duration": 0.58901,
     "end_time": "2025-03-11T14:09:10.541430",
     "exception": false,
     "start_time": "2025-03-11T14:09:09.952420",
     "status": "completed"
    },
    "tags": []
   },
   "outputs": [
    {
     "data": {
      "text/plain": [
       "<All keys matched successfully>"
      ]
     },
     "execution_count": 73,
     "metadata": {},
     "output_type": "execute_result"
    }
   ],
   "source": [
    "model.load_state_dict(torch.load('best_model.pt', map_location=device, weights_only=True))"
   ]
  },
  {
   "cell_type": "code",
   "execution_count": 74,
   "id": "9ee227fe",
   "metadata": {
    "execution": {
     "iopub.execute_input": "2025-03-11T14:09:10.713144Z",
     "iopub.status.busy": "2025-03-11T14:09:10.712845Z",
     "iopub.status.idle": "2025-03-11T14:09:28.177679Z",
     "shell.execute_reply": "2025-03-11T14:09:28.176682Z"
    },
    "papermill": {
     "duration": 17.551673,
     "end_time": "2025-03-11T14:09:28.179056",
     "exception": false,
     "start_time": "2025-03-11T14:09:10.627383",
     "status": "completed"
    },
    "tags": []
   },
   "outputs": [
    {
     "name": "stderr",
     "output_type": "stream",
     "text": [
      "100%|██████████| 92/92 [00:17<00:00,  5.27it/s]"
     ]
    },
    {
     "name": "stdout",
     "output_type": "stream",
     "text": [
      "test loss 0.51278658632351\n",
      "MAE (age) 9.048110179279162\n",
      "Gender accuracy 0.8003334986126941\n"
     ]
    },
    {
     "name": "stderr",
     "output_type": "stream",
     "text": [
      "\n"
     ]
    }
   ],
   "source": [
    "test_dataset = GenderAgeClass(test_df, transform=transform)\n",
    "test_loader = DataLoader(test_dataset, batch_size=16, shuffle=False, drop_last=False)\n",
    "\n",
    "model.eval()\n",
    "loss_test = 0\n",
    "age_mae_test = 0\n",
    "gender_accuracy_test = 0\n",
    "for batch in tqdm(test_loader):\n",
    "    img, age, gender = batch\n",
    "    img, age, gender = img.to(device), age.to(device), gender.to(device)\n",
    "    with torch.inference_mode():\n",
    "        age_pred, gender_pred = model(img)\n",
    "    age_loss = age_criterion(age_pred, age)\n",
    "    gender_loss = gender_criterion(gender_pred, gender)\n",
    "    total_loss = gender_loss + age_loss\n",
    "    loss_test += total_loss.item()\n",
    "    \n",
    "    true_age = (age*100).type(torch.int)\n",
    "    pred_age = (age_pred*100).type(torch.int)\n",
    "    age_mae_test += torch.abs(true_age-pred_age).float().mean().item()\n",
    "\n",
    "    pred_gender = (sigmoid(gender_pred)>0.5).type(torch.float)\n",
    "    gender_accuracy_test += (gender == pred_gender).float().mean().item()\n",
    "loss_test /= len(test_loader)    \n",
    "age_mae_test /= len(test_loader)\n",
    "gender_accuracy_test /= len(test_loader)\n",
    "\n",
    "print(\"test loss\", loss_test)\n",
    "print(\"MAE (age)\", age_mae_test)\n",
    "print(\"Gender accuracy\", gender_accuracy_test)"
   ]
  },
  {
   "cell_type": "code",
   "execution_count": 75,
   "id": "5fc00162",
   "metadata": {
    "execution": {
     "iopub.execute_input": "2025-03-11T14:09:28.360077Z",
     "iopub.status.busy": "2025-03-11T14:09:28.359740Z",
     "iopub.status.idle": "2025-03-11T14:09:28.363415Z",
     "shell.execute_reply": "2025-03-11T14:09:28.362568Z"
    },
    "papermill": {
     "duration": 0.095688,
     "end_time": "2025-03-11T14:09:28.364809",
     "exception": false,
     "start_time": "2025-03-11T14:09:28.269121",
     "status": "completed"
    },
    "tags": []
   },
   "outputs": [],
   "source": [
    "test_dataset = GenderAgeClass(test_df)"
   ]
  },
  {
   "cell_type": "code",
   "execution_count": 76,
   "id": "1cc835f7",
   "metadata": {
    "execution": {
     "iopub.execute_input": "2025-03-11T14:09:28.542644Z",
     "iopub.status.busy": "2025-03-11T14:09:28.542295Z",
     "iopub.status.idle": "2025-03-11T14:09:28.547051Z",
     "shell.execute_reply": "2025-03-11T14:09:28.546243Z"
    },
    "papermill": {
     "duration": 0.095696,
     "end_time": "2025-03-11T14:09:28.548454",
     "exception": false,
     "start_time": "2025-03-11T14:09:28.452758",
     "status": "completed"
    },
    "tags": []
   },
   "outputs": [
    {
     "data": {
      "text/plain": [
       "1467"
      ]
     },
     "execution_count": 76,
     "metadata": {},
     "output_type": "execute_result"
    }
   ],
   "source": [
    "len(test_df)"
   ]
  },
  {
   "cell_type": "code",
   "execution_count": 77,
   "id": "3044b6ed",
   "metadata": {
    "execution": {
     "iopub.execute_input": "2025-03-11T14:09:28.727471Z",
     "iopub.status.busy": "2025-03-11T14:09:28.727123Z",
     "iopub.status.idle": "2025-03-11T14:09:28.769044Z",
     "shell.execute_reply": "2025-03-11T14:09:28.768267Z"
    },
    "papermill": {
     "duration": 0.133145,
     "end_time": "2025-03-11T14:09:28.770430",
     "exception": false,
     "start_time": "2025-03-11T14:09:28.637285",
     "status": "completed"
    },
    "tags": []
   },
   "outputs": [
    {
     "name": "stdout",
     "output_type": "stream",
     "text": [
      "Age\n",
      "True: 25\n",
      "Pred: 26\n",
      "\n",
      "Gender\n",
      "True: female\n",
      "Pred: female\n"
     ]
    },
    {
     "data": {
      "image/jpeg": "[encoded data removed]",
      "image/png": "[encoded data removed]",
      "text/plain": [
       "<PIL.JpegImagePlugin.JpegImageFile image mode=RGB size=200x200>"
      ]
     },
     "execution_count": 77,
     "metadata": {},
     "output_type": "execute_result"
    }
   ],
   "source": [
    "idx = np.random.choice(len(test_df))\n",
    "sample = test_dataset[idx]\n",
    "img, age, gender = sample\n",
    "\n",
    "age_pred, gender_pred = model(transform(img).to(device).unsqueeze(0))\n",
    "true_age = (age*100).type(torch.int).item()\n",
    "pred_age = (age_pred*100).type(torch.int).item()\n",
    "\n",
    "true_gender = id2gender[gender.item()]\n",
    "pred_gender = id2gender[(sigmoid(gender_pred)>0.5).type(torch.float).item()]\n",
    "print(\"Age\")\n",
    "print(f\"True: {true_age}\")\n",
    "print(f\"Pred: {pred_age}\")\n",
    "print()\n",
    "print(\"Gender\")\n",
    "print(f\"True: {true_gender}\")\n",
    "print(f\"Pred: {pred_gender}\")\n",
    "img"
   ]
  },
  {
   "cell_type": "code",
   "execution_count": null,
   "id": "367e0940",
   "metadata": {
    "papermill": {
     "duration": 0.09412,
     "end_time": "2025-03-11T14:09:28.955945",
     "exception": false,
     "start_time": "2025-03-11T14:09:28.861825",
     "status": "completed"
    },
    "tags": []
   },
   "outputs": [],
   "source": []
  },
  {
   "cell_type": "code",
   "execution_count": null,
   "id": "d4181d48",
   "metadata": {
    "papermill": {
     "duration": 0.096633,
     "end_time": "2025-03-11T14:09:29.155081",
     "exception": false,
     "start_time": "2025-03-11T14:09:29.058448",
     "status": "completed"
    },
    "tags": []
   },
   "outputs": [],
   "source": []
  }
 ],
 "metadata": {
  "kaggle": {
   "accelerator": "gpu",
   "dataSources": [
    {
     "datasetId": 44109,
     "sourceId": 78156,
     "sourceType": "datasetVersion"
    }
   ],
   "dockerImageVersionId": 30918,
   "isGpuEnabled": true,
   "isInternetEnabled": true,
   "language": "python",
   "sourceType": "notebook"
  },
  "kernelspec": {
   "display_name": "Python 3 (ipykernel)",
   "language": "python",
   "name": "python3"
  },
  "language_info": {
   "codemirror_mode": {
    "name": "ipython",
    "version": 3
   },
   "file_extension": ".py",
   "mimetype": "text/x-python",
   "name": "python",
   "nbconvert_exporter": "python",
   "pygments_lexer": "ipython3",
   "version": "3.11.3"
  },
  "papermill": {
   "default_parameters": {},
   "duration": 368.76488,
   "end_time": "2025-03-11T14:09:31.168374",
   "environment_variables": {},
   "exception": null,
   "input_path": "__notebook__.ipynb",
   "output_path": "__notebook__.ipynb",
   "parameters": {},
   "start_time": "2025-03-11T14:03:22.403494",
   "version": "2.6.0"
  },
  "widgets": {
   "application/vnd.jupyter.widget-state+json": {
    "state": {
     "20c7a8feafca4807b63b0d3cf1dae1e1": {
      "model_module": "@jupyter-widgets/controls",
      "model_module_version": "2.0.0",
      "model_name": "HTMLStyleModel",
      "state": {
       "_model_module": "@jupyter-widgets/controls",
       "_model_module_version": "2.0.0",
       "_model_name": "HTMLStyleModel",
       "_view_count": null,
       "_view_module": "@jupyter-widgets/base",
       "_view_module_version": "2.0.0",
       "_view_name": "StyleView",
       "background": null,
       "description_width": "",
       "font_size": null,
       "text_color": null
      }
     },
     "219562ea4cae4b37a176f16278c5d97b": {
      "model_module": "@jupyter-widgets/controls",
      "model_module_version": "2.0.0",
      "model_name": "HTMLModel",
      "state": {
       "_dom_classes": [],
       "_model_module": "@jupyter-widgets/controls",
       "_model_module_version": "2.0.0",
       "_model_name": "HTMLModel",
       "_view_count": null,
       "_view_module": "@jupyter-widgets/controls",
       "_view_module_version": "2.0.0",
       "_view_name": "HTMLView",
       "description": "",
       "description_allow_html": false,
       "layout": "IPY_MODEL_7357196500d9447b8a5b91af723cacce",
       "placeholder": "​",
       "style": "IPY_MODEL_20c7a8feafca4807b63b0d3cf1dae1e1",
       "tabbable": null,
       "tooltip": null,
       "value": "model.safetensors: 100%"
      }
     },
     "3718dbe0bc734041b07ded2275c68173": {
      "model_module": "@jupyter-widgets/base",
      "model_module_version": "2.0.0",
      "model_name": "LayoutModel",
      "state": {
       "_model_module": "@jupyter-widgets/base",
       "_model_module_version": "2.0.0",
       "_model_name": "LayoutModel",
       "_view_count": null,
       "_view_module": "@jupyter-widgets/base",
       "_view_module_version": "2.0.0",
       "_view_name": "LayoutView",
       "align_content": null,
       "align_items": null,
       "align_self": null,
       "border_bottom": null,
       "border_left": null,
       "border_right": null,
       "border_top": null,
       "bottom": null,
       "display": null,
       "flex": null,
       "flex_flow": null,
       "grid_area": null,
       "grid_auto_columns": null,
       "grid_auto_flow": null,
       "grid_auto_rows": null,
       "grid_column": null,
       "grid_gap": null,
       "grid_row": null,
       "grid_template_areas": null,
       "grid_template_columns": null,
       "grid_template_rows": null,
       "height": null,
       "justify_content": null,
       "justify_items": null,
       "left": null,
       "margin": null,
       "max_height": null,
       "max_width": null,
       "min_height": null,
       "min_width": null,
       "object_fit": null,
       "object_position": null,
       "order": null,
       "overflow": null,
       "padding": null,
       "right": null,
       "top": null,
       "visibility": null,
       "width": null
      }
     },
     "451081f9ae2842adaf1bf936b4cf5c0f": {
      "model_module": "@jupyter-widgets/controls",
      "model_module_version": "2.0.0",
      "model_name": "ProgressStyleModel",
      "state": {
       "_model_module": "@jupyter-widgets/controls",
       "_model_module_version": "2.0.0",
       "_model_name": "ProgressStyleModel",
       "_view_count": null,
       "_view_module": "@jupyter-widgets/base",
       "_view_module_version": "2.0.0",
       "_view_name": "StyleView",
       "bar_color": null,
       "description_width": ""
      }
     },
     "6d5c43629cc14accbb97ce2cb3ae019e": {
      "model_module": "@jupyter-widgets/controls",
      "model_module_version": "2.0.0",
      "model_name": "FloatProgressModel",
      "state": {
       "_dom_classes": [],
       "_model_module": "@jupyter-widgets/controls",
       "_model_module_version": "2.0.0",
       "_model_name": "FloatProgressModel",
       "_view_count": null,
       "_view_module": "@jupyter-widgets/controls",
       "_view_module_version": "2.0.0",
       "_view_name": "ProgressView",
       "bar_style": "success",
       "description": "",
       "description_allow_html": false,
       "layout": "IPY_MODEL_3718dbe0bc734041b07ded2275c68173",
       "max": 553432986,
       "min": 0,
       "orientation": "horizontal",
       "style": "IPY_MODEL_451081f9ae2842adaf1bf936b4cf5c0f",
       "tabbable": null,
       "tooltip": null,
       "value": 553432986
      }
     },
     "7357196500d9447b8a5b91af723cacce": {
      "model_module": "@jupyter-widgets/base",
      "model_module_version": "2.0.0",
      "model_name": "LayoutModel",
      "state": {
       "_model_module": "@jupyter-widgets/base",
       "_model_module_version": "2.0.0",
       "_model_name": "LayoutModel",
       "_view_count": null,
       "_view_module": "@jupyter-widgets/base",
       "_view_module_version": "2.0.0",
       "_view_name": "LayoutView",
       "align_content": null,
       "align_items": null,
       "align_self": null,
       "border_bottom": null,
       "border_left": null,
       "border_right": null,
       "border_top": null,
       "bottom": null,
       "display": null,
       "flex": null,
       "flex_flow": null,
       "grid_area": null,
       "grid_auto_columns": null,
       "grid_auto_flow": null,
       "grid_auto_rows": null,
       "grid_column": null,
       "grid_gap": null,
       "grid_row": null,
       "grid_template_areas": null,
       "grid_template_columns": null,
       "grid_template_rows": null,
       "height": null,
       "justify_content": null,
       "justify_items": null,
       "left": null,
       "margin": null,
       "max_height": null,
       "max_width": null,
       "min_height": null,
       "min_width": null,
       "object_fit": null,
       "object_position": null,
       "order": null,
       "overflow": null,
       "padding": null,
       "right": null,
       "top": null,
       "visibility": null,
       "width": null
      }
     },
     "9267ce9d5a1a49d19c2a0e7169231ac9": {
      "model_module": "@jupyter-widgets/controls",
      "model_module_version": "2.0.0",
      "model_name": "HTMLModel",
      "state": {
       "_dom_classes": [],
       "_model_module": "@jupyter-widgets/controls",
       "_model_module_version": "2.0.0",
       "_model_name": "HTMLModel",
       "_view_count": null,
       "_view_module": "@jupyter-widgets/controls",
       "_view_module_version": "2.0.0",
       "_view_name": "HTMLView",
       "description": "",
       "description_allow_html": false,
       "layout": "IPY_MODEL_a88b01377db849e2bcfc3677912cd3ea",
       "placeholder": "​",
       "style": "IPY_MODEL_ee69ae4dfafd47a49228fb7c48b117aa",
       "tabbable": null,
       "tooltip": null,
       "value": " 553M/553M [00:02&lt;00:00, 245MB/s]"
      }
     },
     "9ec93af9926345ea9a0a0dfde4be01e2": {
      "model_module": "@jupyter-widgets/controls",
      "model_module_version": "2.0.0",
      "model_name": "HBoxModel",
      "state": {
       "_dom_classes": [],
       "_model_module": "@jupyter-widgets/controls",
       "_model_module_version": "2.0.0",
       "_model_name": "HBoxModel",
       "_view_count": null,
       "_view_module": "@jupyter-widgets/controls",
       "_view_module_version": "2.0.0",
       "_view_name": "HBoxView",
       "box_style": "",
       "children": [
        "IPY_MODEL_219562ea4cae4b37a176f16278c5d97b",
        "IPY_MODEL_6d5c43629cc14accbb97ce2cb3ae019e",
        "IPY_MODEL_9267ce9d5a1a49d19c2a0e7169231ac9"
       ],
       "layout": "IPY_MODEL_bf09ac49cb1a46a398c9cbae6c00864b",
       "tabbable": null,
       "tooltip": null
      }
     },
     "a88b01377db849e2bcfc3677912cd3ea": {
      "model_module": "@jupyter-widgets/base",
      "model_module_version": "2.0.0",
      "model_name": "LayoutModel",
      "state": {
       "_model_module": "@jupyter-widgets/base",
       "_model_module_version": "2.0.0",
       "_model_name": "LayoutModel",
       "_view_count": null,
       "_view_module": "@jupyter-widgets/base",
       "_view_module_version": "2.0.0",
       "_view_name": "LayoutView",
       "align_content": null,
       "align_items": null,
       "align_self": null,
       "border_bottom": null,
       "border_left": null,
       "border_right": null,
       "border_top": null,
       "bottom": null,
       "display": null,
       "flex": null,
       "flex_flow": null,
       "grid_area": null,
       "grid_auto_columns": null,
       "grid_auto_flow": null,
       "grid_auto_rows": null,
       "grid_column": null,
       "grid_gap": null,
       "grid_row": null,
       "grid_template_areas": null,
       "grid_template_columns": null,
       "grid_template_rows": null,
       "height": null,
       "justify_content": null,
       "justify_items": null,
       "left": null,
       "margin": null,
       "max_height": null,
       "max_width": null,
       "min_height": null,
       "min_width": null,
       "object_fit": null,
       "object_position": null,
       "order": null,
       "overflow": null,
       "padding": null,
       "right": null,
       "top": null,
       "visibility": null,
       "width": null
      }
     },
     "bf09ac49cb1a46a398c9cbae6c00864b": {
      "model_module": "@jupyter-widgets/base",
      "model_module_version": "2.0.0",
      "model_name": "LayoutModel",
      "state": {
       "_model_module": "@jupyter-widgets/base",
       "_model_module_version": "2.0.0",
       "_model_name": "LayoutModel",
       "_view_count": null,
       "_view_module": "@jupyter-widgets/base",
       "_view_module_version": "2.0.0",
       "_view_name": "LayoutView",
       "align_content": null,
       "align_items": null,
       "align_self": null,
       "border_bottom": null,
       "border_left": null,
       "border_right": null,
       "border_top": null,
       "bottom": null,
       "display": null,
       "flex": null,
       "flex_flow": null,
       "grid_area": null,
       "grid_auto_columns": null,
       "grid_auto_flow": null,
       "grid_auto_rows": null,
       "grid_column": null,
       "grid_gap": null,
       "grid_row": null,
       "grid_template_areas": null,
       "grid_template_columns": null,
       "grid_template_rows": null,
       "height": null,
       "justify_content": null,
       "justify_items": null,
       "left": null,
       "margin": null,
       "max_height": null,
       "max_width": null,
       "min_height": null,
       "min_width": null,
       "object_fit": null,
       "object_position": null,
       "order": null,
       "overflow": null,
       "padding": null,
       "right": null,
       "top": null,
       "visibility": null,
       "width": null
      }
     },
     "ee69ae4dfafd47a49228fb7c48b117aa": {
      "model_module": "@jupyter-widgets/controls",
      "model_module_version": "2.0.0",
      "model_name": "HTMLStyleModel",
      "state": {
       "_model_module": "@jupyter-widgets/controls",
       "_model_module_version": "2.0.0",
       "_model_name": "HTMLStyleModel",
       "_view_count": null,
       "_view_module": "@jupyter-widgets/base",
       "_view_module_version": "2.0.0",
       "_view_name": "StyleView",
       "background": null,
       "description_width": "",
       "font_size": null,
       "text_color": null
      }
     }
    },
    "version_major": 2,
    "version_minor": 0
   }
  }
 },
 "nbformat": 4,
 "nbformat_minor": 5
}
